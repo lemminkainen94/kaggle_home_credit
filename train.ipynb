{
 "cells": [
  {
   "cell_type": "code",
   "execution_count": 117,
   "id": "55cfbd80-57ed-42c1-acc4-48153e4bc295",
   "metadata": {},
   "outputs": [],
   "source": [
    "from datetime import datetime\n",
    "import os\n",
    "import re\n",
    "\n",
    "import pandas as pd\n",
    "import polars as pl\n",
    "import numpy as np\n",
    "import matplotlib.pyplot as plt\n",
    "import seaborn as sns\n",
    "import lightgbm as lgb\n",
    "import sklearn as sk\n",
    "import mlflow\n",
    "from mlflow.entities import ViewType\n",
    "from mlflow.tracking import MlflowClient\n",
    "from scipy.stats import pearsonr\n",
    "from sklearn.metrics import accuracy_score, confusion_matrix, f1_score, roc_auc_score, roc_curve\n",
    "from sklearn.model_selection import StratifiedKFold, cross_val_score, train_test_split\n",
    "\n",
    "import warnings\n",
    "warnings.simplefilter(action='ignore', category=FutureWarning)\n",
    "pd.set_option('display.max_columns', None)\n",
    "pd.set_option('display.max_rows', 500)"
   ]
  },
  {
   "cell_type": "code",
   "execution_count": 2,
   "id": "0b2c9f57-ef77-4eb8-aa63-5bb62535753e",
   "metadata": {},
   "outputs": [
    {
     "data": {
      "text/plain": [
       "<Experiment: artifact_location='mlflow-artifacts:/667472224209157606', creation_time=1712260345326, experiment_id='667472224209157606', last_update_time=1712260345326, lifecycle_stage='active', name='credit-score-train', tags={}>"
      ]
     },
     "execution_count": 2,
     "metadata": {},
     "output_type": "execute_result"
    }
   ],
   "source": [
    "REMOTE_TRACKING_IP = os.getenv(\"REMOTE_IP\", \"localhost\")\n",
    "MLFLOW_TRACKING_URI = f\"http://{REMOTE_TRACKING_IP}:5000\"\n",
    "\n",
    "client = MlflowClient(tracking_uri=MLFLOW_TRACKING_URI)\n",
    "\n",
    "CREDIT_EXPERIMENT_NAME = \"credit-score-train\"\n",
    "EXPERIMENT_NAME = \"chosen-models-credit\"\n",
    "\n",
    "mlflow.set_tracking_uri(MLFLOW_TRACKING_URI)\n",
    "mlflow.set_experiment(CREDIT_EXPERIMENT_NAME)"
   ]
  },
  {
   "cell_type": "code",
   "execution_count": 3,
   "id": "7f76a133-cd87-4c9a-b3cd-c7c79be9b451",
   "metadata": {},
   "outputs": [],
   "source": [
    "def get_splits(data: pl.DataFrame):\n",
    "    case_ids = data[[\"case_id\"]].unique()\n",
    "    case_ids_train, case_ids_test = train_test_split(case_ids, train_size=0.7)\n",
    "    case_ids_valid, case_ids_test = train_test_split(case_ids_test, train_size=0.5)\n",
    "    return case_ids_train, case_ids_valid, case_ids_test"
   ]
  },
  {
   "cell_type": "code",
   "execution_count": null,
   "id": "0b4861fd-a44b-416f-80be-2a62b01ad784",
   "metadata": {},
   "outputs": [],
   "source": []
  },
  {
   "cell_type": "code",
   "execution_count": 10,
   "id": "2eedb591-4775-4317-9ff0-c4113599ef48",
   "metadata": {},
   "outputs": [],
   "source": [
    "def from_polars_to_pandas(data, case_ids: pl.DataFrame, cat_cols=None) -> pd.DataFrame:\n",
    "    base = data.filter(pl.col(\"case_id\").is_in(case_ids))[[\"case_id\", \"WEEK_NUM\", \"target\"]].to_pandas()\n",
    "    X = data.filter(pl.col(\"case_id\").is_in(case_ids))[[x for x in data.columns if x not in [\"case_id\", \"WEEK_NUM\", \"target\"]]].to_pandas()\n",
    "    y = data.filter(pl.col(\"case_id\").is_in(case_ids))[\"target\"].to_pandas()\n",
    "    if cat_cols is None:\n",
    "        cat_cols = list(X.select_dtypes(\"object\").columns) + list(X.select_dtypes(\"bool\").columns)\n",
    "    \n",
    "    X[cat_cols] = X[cat_cols].astype(\"category\")\n",
    "    return base, X, y"
   ]
  },
  {
   "cell_type": "code",
   "execution_count": 11,
   "id": "4fc7569d-31e9-4e29-96b3-49f779d652e9",
   "metadata": {},
   "outputs": [],
   "source": [
    "def load_data_splits(data_path: str):\n",
    "    data = pl.read_parquet(data_path, use_pyarrow = True)\n",
    "    case_ids_train, case_ids_valid, case_ids_test = get_splits(data)\n",
    "    return (\n",
    "        from_polars_to_pandas(data, case_ids_train),\n",
    "        from_polars_to_pandas(data, case_ids_valid),\n",
    "        from_polars_to_pandas(data, case_ids_test)\n",
    "    )"
   ]
  },
  {
   "cell_type": "code",
   "execution_count": 119,
   "id": "2fc69562-96c3-420e-accb-ad8454cb6b08",
   "metadata": {},
   "outputs": [],
   "source": [
    "(base_train, X_train, y_train), (base_valid, X_valid, y_valid), (base_test, X_test, y_test) = load_data_splits(\"data/train_base.parquet\")\n",
    "cat_cols_base = list(X_train.select_dtypes(\"category\").columns)"
   ]
  },
  {
   "cell_type": "code",
   "execution_count": 120,
   "id": "af68c31a-5760-4acc-9cf9-fb95cc362357",
   "metadata": {},
   "outputs": [],
   "source": [
    "train_data = lgb.Dataset(X_train, label=y_train, categorical_feature=cat_cols_base)\n",
    "valid_data = lgb.Dataset(X_valid, label=y_valid, categorical_feature=cat_cols_base)\n",
    "test_data = lgb.Dataset(X_test, label=y_test, categorical_feature=cat_cols_base)"
   ]
  },
  {
   "cell_type": "code",
   "execution_count": 14,
   "id": "873dc938-7ef9-403c-b4f2-c9021dc1f1b7",
   "metadata": {},
   "outputs": [],
   "source": [
    "def train_lgb_model(params, train_data, valid_data) -> lgb.Booster:\n",
    "    with mlflow.start_run():\n",
    "        mlflow.set_tag(\"model\", \"lgb\")\n",
    "        mlflow.log_params(params)\n",
    "        eval_result = {}\n",
    "        bst = lgb.train(params, train_data, valid_sets=valid_data, valid_names=[\"eval\"], \n",
    "                        callbacks=[lgb.log_evaluation(50), lgb.early_stopping(10), lgb.record_evaluation(eval_result)])\n",
    "        mlflow.log_metric(\"auc\", eval_result['eval']['auc'][-1])\n",
    "        return bst, eval_result"
   ]
  },
  {
   "cell_type": "code",
   "execution_count": 15,
   "id": "f3fdce0f-feab-4d24-8abd-5a790ee29d1d",
   "metadata": {},
   "outputs": [
    {
     "name": "stderr",
     "output_type": "stream",
     "text": [
      "/home/wojciechostrowski/.cache/pypoetry/virtualenvs/kaggle-home-credit-n3bSIZTJ-py3.11/lib/python3.11/site-packages/lightgbm/engine.py:172: UserWarning: Found `n_estimators` in params. Will use it instead of argument\n",
      "  _log_warning(f\"Found `{alias}` in params. Will use it instead of argument\")\n"
     ]
    },
    {
     "name": "stdout",
     "output_type": "stream",
     "text": [
      "Training until validation scores don't improve for 10 rounds\n",
      "[50]\teval's auc: 0.783449\n",
      "[100]\teval's auc: 0.803535\n",
      "[150]\teval's auc: 0.812038\n",
      "[200]\teval's auc: 0.817125\n",
      "[250]\teval's auc: 0.820118\n",
      "[300]\teval's auc: 0.822585\n",
      "[350]\teval's auc: 0.824506\n",
      "[400]\teval's auc: 0.825985\n",
      "[450]\teval's auc: 0.827396\n",
      "[500]\teval's auc: 0.828272\n",
      "[550]\teval's auc: 0.829263\n",
      "[600]\teval's auc: 0.829936\n",
      "[650]\teval's auc: 0.830832\n",
      "[700]\teval's auc: 0.831452\n",
      "[750]\teval's auc: 0.831921\n",
      "[800]\teval's auc: 0.832472\n",
      "[850]\teval's auc: 0.832848\n",
      "[900]\teval's auc: 0.833308\n",
      "[950]\teval's auc: 0.833593\n",
      "[1000]\teval's auc: 0.833799\n",
      "Did not meet early stopping. Best iteration is:\n",
      "[999]\teval's auc: 0.833802\n"
     ]
    }
   ],
   "source": [
    "params = {\n",
    "    \"boosting_type\": \"gbdt\",\n",
    "    \"objective\": \"binary\",\n",
    "    \"metric\": \"auc\",\n",
    "    \"max_depth\": 3,\n",
    "    \"num_leaves\": 31,\n",
    "    \"learning_rate\": 0.05,\n",
    "    \"feature_fraction\": 0.9,\n",
    "    \"bagging_fraction\": 0.8,\n",
    "    \"bagging_freq\": 5,\n",
    "    \"n_estimators\": 1000,\n",
    "    \"verbose\": -1,\n",
    "}\n",
    "\n",
    "\n",
    "bst, eval_results = train_lgb_model(params, train_data, valid_data)"
   ]
  },
  {
   "cell_type": "code",
   "execution_count": 16,
   "id": "ee92460a-0845-419a-87ce-55e8b6da306f",
   "metadata": {},
   "outputs": [
    {
     "data": {
      "text/plain": [
       "0.8337989849749787"
      ]
     },
     "execution_count": 16,
     "metadata": {},
     "output_type": "execute_result"
    }
   ],
   "source": [
    "eval_results['eval']['auc'][-1]"
   ]
  },
  {
   "cell_type": "code",
   "execution_count": 121,
   "id": "2c4f2a47-93d4-4060-9526-62a3054972c4",
   "metadata": {},
   "outputs": [],
   "source": [
    "ypred = bst.predict(X_test)"
   ]
  },
  {
   "cell_type": "code",
   "execution_count": 122,
   "id": "b555ac7c-5c9b-428b-8194-78f6c9b0135e",
   "metadata": {},
   "outputs": [
    {
     "data": {
      "text/plain": [
       "0.8423493299022732"
      ]
     },
     "execution_count": 122,
     "metadata": {},
     "output_type": "execute_result"
    }
   ],
   "source": [
    "roc_auc_score(y_test.values, ypred)"
   ]
  },
  {
   "cell_type": "code",
   "execution_count": 125,
   "id": "46601eb6-cc3a-47c4-bc7f-a4ac04516ffe",
   "metadata": {},
   "outputs": [
    {
     "name": "stderr",
     "output_type": "stream",
     "text": [
      "No artists with labels found to put in legend.  Note that artists whose label start with an underscore are ignored when legend() is called with no argument.\n"
     ]
    },
    {
     "data": {
      "image/png": "[encoded data removed]",
      "text/plain": [
       "<Figure size 640x480 with 1 Axes>"
      ]
     },
     "metadata": {},
     "output_type": "display_data"
    }
   ],
   "source": [
    "from sklearn.metrics import RocCurveDisplay\n",
    "\n",
    "fpr, tpr, _ = roc_curve(y_test.values, ypred)\n",
    "roc_display = RocCurveDisplay(fpr=fpr, tpr=tpr).plot()"
   ]
  },
  {
   "cell_type": "code",
   "execution_count": 51,
   "id": "49fe37b7-38c5-49ec-a8fd-c2b2c01bb719",
   "metadata": {},
   "outputs": [
    {
     "data": {
      "text/plain": [
       "0.6651304947989516"
      ]
     },
     "execution_count": 51,
     "metadata": {},
     "output_type": "execute_result"
    }
   ],
   "source": [
    "2 * roc_auc_score(y_test.values, ypred) - 1"
   ]
  },
  {
   "cell_type": "code",
   "execution_count": 36,
   "id": "afbeef57-dc23-491b-8b55-0fa1fdc3d601",
   "metadata": {},
   "outputs": [],
   "source": [
    "base_test['score'] = ypred\n",
    "roc_by_week_test = base_test.loc[:, [\"WEEK_NUM\", \"target\", \"score\"]]\\\n",
    "        .sort_values(\"WEEK_NUM\")\\\n",
    "        .groupby(\"WEEK_NUM\")[[\"target\", \"score\"]]\\\n",
    "        .apply(lambda x: roc_auc_score(x[\"target\"], x[\"score\"])).tolist()"
   ]
  },
  {
   "cell_type": "code",
   "execution_count": 53,
   "id": "f6f94c36-3036-4b60-b6a9-97428960800b",
   "metadata": {},
   "outputs": [
    {
     "data": {
      "text/plain": [
       "PearsonRResult(statistic=-0.1646654898106778, pvalue=0.11675311435321464)"
      ]
     },
     "execution_count": 53,
     "metadata": {},
     "output_type": "execute_result"
    }
   ],
   "source": [
    "pearsonr(roc_by_week_test, base_test.sort_values(\"WEEK_NUM\")\\\n",
    "        .groupby(\"WEEK_NUM\")[\"target\"].mean().tolist())"
   ]
  },
  {
   "cell_type": "code",
   "execution_count": 54,
   "id": "1d1d5ab3-31fd-4fec-941f-2d775b8b3fcf",
   "metadata": {},
   "outputs": [
    {
     "data": {
      "text/plain": [
       "PearsonRResult(statistic=-0.056880097362124876, pvalue=0.5901962986100256)"
      ]
     },
     "execution_count": 54,
     "metadata": {},
     "output_type": "execute_result"
    }
   ],
   "source": [
    "pearsonr(roc_by_week_test, base_test.sort_values(\"WEEK_NUM\")\\\n",
    "        .groupby(\"WEEK_NUM\")[\"target\"].count().tolist())"
   ]
  },
  {
   "cell_type": "code",
   "execution_count": 57,
   "id": "85002444-b721-44eb-a872-2a13f41bd6e8",
   "metadata": {},
   "outputs": [
    {
     "data": {
      "image/png": "[encoded data removed]",
      "text/plain": [
       "<Figure size 640x480 with 1 Axes>"
      ]
     },
     "metadata": {},
     "output_type": "display_data"
    },
    {
     "data": {
      "image/png": "[encoded data removed]",
      "text/plain": [
       "<Figure size 640x480 with 1 Axes>"
      ]
     },
     "metadata": {},
     "output_type": "display_data"
    }
   ],
   "source": [
    "plt.plot(base_test.sort_values(\"WEEK_NUM\")\\\n",
    "        .groupby(\"WEEK_NUM\")[\"target\"].count().tolist()\n",
    ")\n",
    "plt.show()\n",
    "plt.plot(base_test.sort_values(\"WEEK_NUM\")\\\n",
    "        .groupby(\"WEEK_NUM\")[\"target\"].mean().tolist()\n",
    ")\n",
    "plt.plot(roc_by_week_test)\n",
    "plt.show()"
   ]
  },
  {
   "cell_type": "code",
   "execution_count": 58,
   "id": "5802d747-7524-44ba-9f49-b4531ed14609",
   "metadata": {},
   "outputs": [],
   "source": [
    "ypred = bst.predict(X_train)"
   ]
  },
  {
   "cell_type": "code",
   "execution_count": 59,
   "id": "a3882ba1-e56a-4580-af8a-8b81590e0f83",
   "metadata": {},
   "outputs": [
    {
     "data": {
      "text/plain": [
       "0.8482340525446741"
      ]
     },
     "execution_count": 59,
     "metadata": {},
     "output_type": "execute_result"
    }
   ],
   "source": [
    "roc_auc_score(y_train.values, ypred)"
   ]
  },
  {
   "cell_type": "code",
   "execution_count": 60,
   "id": "0952a8c8-b6c2-4df9-b857-6cbdaa17afac",
   "metadata": {},
   "outputs": [],
   "source": [
    "base_train['score'] = ypred\n",
    "roc_by_week_train = base_train.loc[:, [\"WEEK_NUM\", \"target\", \"score\"]]\\\n",
    "        .sort_values(\"WEEK_NUM\")\\\n",
    "        .groupby(\"WEEK_NUM\")[[\"target\", \"score\"]]\\\n",
    "        .apply(lambda x: roc_auc_score(x[\"target\"], x[\"score\"])).tolist()"
   ]
  },
  {
   "cell_type": "code",
   "execution_count": 17,
   "id": "1bd38a97-d49a-46e8-b6f7-97ea9f8138e8",
   "metadata": {},
   "outputs": [
    {
     "data": {
      "text/plain": [
       "0.13000668743092647"
      ]
     },
     "execution_count": 17,
     "metadata": {},
     "output_type": "execute_result"
    }
   ],
   "source": [
    "base['score'] = ypred\n",
    "gini_in_time = base.loc[:, [\"WEEK_NUM\", \"target\", \"score\"]]\\\n",
    "        .sort_values(\"WEEK_NUM\")\\\n",
    "        .groupby(\"WEEK_NUM\")[[\"target\", \"score\"]]\\\n",
    "        .apply(lambda x: 2*roc_auc_score(x[\"target\"], x[\"score\"])-1).tolist()"
   ]
  },
  {
   "cell_type": "code",
   "execution_count": 61,
   "id": "2b3193e2-4e6a-488f-8db2-ffd07cf6111d",
   "metadata": {},
   "outputs": [
    {
     "data": {
      "text/plain": [
       "PearsonRResult(statistic=-0.33911312853054315, pvalue=0.0009438667669884408)"
      ]
     },
     "execution_count": 61,
     "metadata": {},
     "output_type": "execute_result"
    }
   ],
   "source": [
    "pearsonr(roc_by_week_train, base_train.sort_values(\"WEEK_NUM\")\\\n",
    "        .groupby(\"WEEK_NUM\")[\"target\"].mean().tolist())"
   ]
  },
  {
   "cell_type": "code",
   "execution_count": 63,
   "id": "bd2296c1-44ab-4f81-83ee-a23be91e995a",
   "metadata": {},
   "outputs": [
    {
     "data": {
      "text/plain": [
       "PearsonRResult(statistic=-0.1750018920969017, pvalue=0.09521426384954665)"
      ]
     },
     "execution_count": 63,
     "metadata": {},
     "output_type": "execute_result"
    }
   ],
   "source": [
    "pearsonr(roc_by_week_train, base_train.sort_values(\"WEEK_NUM\")\\\n",
    "        .groupby(\"WEEK_NUM\")[\"target\"].count().tolist())"
   ]
  },
  {
   "cell_type": "code",
   "execution_count": 64,
   "id": "2313e300-c50e-4307-90a2-1d8e8bfc8907",
   "metadata": {},
   "outputs": [
    {
     "data": {
      "text/plain": [
       "PearsonRResult(statistic=0.38318487070577567, pvalue=0.00016318488610894515)"
      ]
     },
     "execution_count": 64,
     "metadata": {},
     "output_type": "execute_result"
    }
   ],
   "source": [
    "pearsonr(base_train.sort_values(\"WEEK_NUM\")\\\n",
    "        .groupby(\"WEEK_NUM\")[\"target\"].mean().tolist(), base_train.sort_values(\"WEEK_NUM\")\\\n",
    "        .groupby(\"WEEK_NUM\")[\"target\"].count().tolist())"
   ]
  },
  {
   "cell_type": "markdown",
   "id": "62f91baf-982b-48f2-8060-b5736da8c8fc",
   "metadata": {},
   "source": [
    "Judging by the train set, there is a pretty strong negative correlation between the default ratio and performance.  \n",
    "But what does it tell us? How can it be worse to have larger class imbalance?  \n",
    "Ensemble with cv splits on weeks could be helpful.  \n",
    "Or some knn features with avg target on the nearest neighbors?  \n",
    "Maybe TPR is the week part?  \n",
    "Most likely, the model underestimates the probability of default in the weeks where it's higher"
   ]
  },
  {
   "cell_type": "code",
   "execution_count": 62,
   "id": "6a723af9-bc3e-4145-85cf-0f1e256fcea5",
   "metadata": {},
   "outputs": [
    {
     "data": {
      "image/png": "[encoded data removed]",
      "text/plain": [
       "<Figure size 640x480 with 1 Axes>"
      ]
     },
     "metadata": {},
     "output_type": "display_data"
    },
    {
     "data": {
      "image/png": "[encoded data removed]",
      "text/plain": [
       "<Figure size 640x480 with 1 Axes>"
      ]
     },
     "metadata": {},
     "output_type": "display_data"
    }
   ],
   "source": [
    "plt.plot(base_train.sort_values(\"WEEK_NUM\")\\\n",
    "        .groupby(\"WEEK_NUM\")[\"target\"].count().tolist()\n",
    ")\n",
    "plt.show()\n",
    "plt.plot(base_train.sort_values(\"WEEK_NUM\")\\\n",
    "        .groupby(\"WEEK_NUM\")[\"target\"].mean().tolist()\n",
    ")\n",
    "plt.plot(roc_by_week_train)\n",
    "plt.show()"
   ]
  },
  {
   "cell_type": "code",
   "execution_count": 25,
   "id": "5b12dfa0-60d4-4594-955e-0337f860c50e",
   "metadata": {},
   "outputs": [],
   "source": [
    "def get_lgbm_varimp(model, train_columns, max_vars=50):\n",
    "    cv_varimp_df = pd.DataFrame([train_columns, model.feature_importance()]).T\n",
    "    cv_varimp_df.columns = ['feature_name', 'varimp']\n",
    "    cv_varimp_df.sort_values(by='varimp', ascending=False, inplace=True)\n",
    "    cv_varimp_df = cv_varimp_df.iloc[0:max_vars]   \n",
    "    return cv_varimp_df"
   ]
  },
  {
   "cell_type": "code",
   "execution_count": 27,
   "id": "9dfe1e0e-7437-4282-a5ef-9af523cfb38c",
   "metadata": {},
   "outputs": [],
   "source": [
    "imps = get_lgbm_varimp(bst, X_train.columns)"
   ]
  },
  {
   "cell_type": "code",
   "execution_count": 88,
   "id": "2d7976ae-1825-46e1-9578-c3a6bcd1d560",
   "metadata": {},
   "outputs": [
    {
     "data": {
      "text/plain": [
       "['price_1097A',\n",
       " 'annuity_780A',\n",
       " 'pmtnum_254L',\n",
       " 'min_cancelreason_3545846M',\n",
       " 'max_birth_259D',\n",
       " 'mobilephncnt_593L',\n",
       " 'pmtssum_45A',\n",
       " 'days360_512L',\n",
       " 'max_incometype_1044T',\n",
       " 'cntpmts24_3658933L',\n",
       " 'eir_270L',\n",
       " 'validfrom_1069D',\n",
       " 'inittransactionamount_650A',\n",
       " 'max_sex_738L',\n",
       " 'max_num_group1_1_3',\n",
       " 'maxdpdinstldate_3546855D',\n",
       " 'dateofbirth_337D',\n",
       " 'max_pmtnum_8L',\n",
       " 'mean_amount_4527230A',\n",
       " 'applicationscnt_867L',\n",
       " 'max_amount_4527230A',\n",
       " 'lastrejectcommoditycat_161M',\n",
       " 'numincomingpmts_3546848L',\n",
       " 'pmtaverage_3A',\n",
       " 'numinstlswithdpd10_728L',\n",
       " 'pmtaverage_4527227A',\n",
       " 'lastapprcommoditycat_1041M',\n",
       " 'lastdelinqdate_224D',\n",
       " 'days90_310L',\n",
       " 'lastrejectdate_50D',\n",
       " 'monthsannuity_845L',\n",
       " 'max_familystate_447L',\n",
       " 'avgdpdtolclosure24_3658938P',\n",
       " 'last_amount_4527230A',\n",
       " 'maxinstallast24m_3658928A',\n",
       " 'datelastinstal40dpd_247D',\n",
       " 'maxdbddpdtollast12m_3658940P',\n",
       " 'pctinstlsallpaidlate1d_3546856L',\n",
       " 'days180_256L',\n",
       " 'maxdbddpdlast1m_3658939P',\n",
       " 'days30_165L',\n",
       " 'avglnamtstart24m_4525187A',\n",
       " 'numinstunpaidmax_3546851L',\n",
       " 'last_employedfrom_700D',\n",
       " 'mean_maxdpdtolerance_577P',\n",
       " 'max_empl_industry_691L',\n",
       " 'last_birth_259D',\n",
       " 'max_dtlastpmt_581D',\n",
       " 'credamount_770A',\n",
       " 'maxannuity_159A']"
      ]
     },
     "execution_count": 88,
     "metadata": {},
     "output_type": "execute_result"
    }
   ],
   "source": [
    "imps['feature_name'].tolist()"
   ]
  },
  {
   "cell_type": "code",
   "execution_count": 65,
   "id": "4a5bda6d-3522-4cf8-a9cd-ae415fdf0941",
   "metadata": {},
   "outputs": [],
   "source": [
    "def gini_stability(base, w_fallingrate=88.0, w_resstd=-0.5):\n",
    "    gini_in_time = base.loc[:, [\"WEEK_NUM\", \"target\", \"score\"]]\\\n",
    "        .sort_values(\"WEEK_NUM\")\\\n",
    "        .groupby(\"WEEK_NUM\")[[\"target\", \"score\"]]\\\n",
    "        .apply(lambda x: 2*roc_auc_score(x[\"target\"], x[\"score\"])-1).tolist()\n",
    "    \n",
    "    x = np.arange(len(gini_in_time))\n",
    "    y = gini_in_time\n",
    "    a, b = np.polyfit(x, y, 1)\n",
    "    y_hat = a*x + b\n",
    "    residuals = y - y_hat\n",
    "    res_std = np.std(residuals)\n",
    "    avg_gini = np.mean(gini_in_time)\n",
    "    higher_better = True\n",
    "    metric_name=\"gini_stability\"\n",
    "    return avg_gini + w_fallingrate * min(0, a) + w_resstd * res_std"
   ]
  },
  {
   "cell_type": "code",
   "execution_count": 67,
   "id": "914c25dd-b263-4fc0-b56a-a2499c041ee9",
   "metadata": {},
   "outputs": [],
   "source": [
    "X_train = X_train[imps['feature_name']]\n",
    "X_valid = X_valid[imps['feature_name']]\n",
    "X_test = X_test[imps['feature_name']]\n",
    "cat_cols_base = list(X_train.select_dtypes(\"category\").columns)"
   ]
  },
  {
   "cell_type": "code",
   "execution_count": 68,
   "id": "2cf9cce6-758c-40d1-a393-3380cbb440d0",
   "metadata": {},
   "outputs": [],
   "source": [
    "train_data = lgb.Dataset(X_train, label=y_train, categorical_feature=cat_cols_base)\n",
    "valid_data = lgb.Dataset(X_valid, label=y_valid, categorical_feature=cat_cols_base)\n",
    "test_data = lgb.Dataset(X_test, label=y_test, categorical_feature=cat_cols_base)"
   ]
  },
  {
   "cell_type": "code",
   "execution_count": 69,
   "id": "0829346f-2459-48db-bd93-6ebadbbaf9db",
   "metadata": {
    "scrolled": true
   },
   "outputs": [
    {
     "name": "stderr",
     "output_type": "stream",
     "text": [
      "/home/wojciechostrowski/.cache/pypoetry/virtualenvs/kaggle-home-credit-n3bSIZTJ-py3.11/lib/python3.11/site-packages/lightgbm/engine.py:172: UserWarning: Found `n_estimators` in params. Will use it instead of argument\n",
      "  _log_warning(f\"Found `{alias}` in params. Will use it instead of argument\")\n"
     ]
    },
    {
     "name": "stdout",
     "output_type": "stream",
     "text": [
      "Training until validation scores don't improve for 10 rounds\n",
      "[50]\teval's auc: 0.775801\n",
      "[100]\teval's auc: 0.795552\n",
      "[150]\teval's auc: 0.803551\n",
      "[200]\teval's auc: 0.807646\n",
      "[250]\teval's auc: 0.810429\n",
      "[300]\teval's auc: 0.812007\n",
      "[350]\teval's auc: 0.813299\n",
      "[400]\teval's auc: 0.814383\n",
      "[450]\teval's auc: 0.815276\n",
      "[500]\teval's auc: 0.815925\n",
      "[550]\teval's auc: 0.816424\n",
      "[600]\teval's auc: 0.816974\n",
      "[650]\teval's auc: 0.817548\n",
      "[700]\teval's auc: 0.818179\n",
      "[750]\teval's auc: 0.818527\n",
      "[800]\teval's auc: 0.819078\n",
      "[850]\teval's auc: 0.819397\n",
      "[900]\teval's auc: 0.819814\n",
      "[950]\teval's auc: 0.820001\n",
      "[1000]\teval's auc: 0.820191\n",
      "Did not meet early stopping. Best iteration is:\n",
      "[998]\teval's auc: 0.820196\n"
     ]
    }
   ],
   "source": [
    "bst_50, eval_results = train_lgb_model(params, train_data, valid_data)"
   ]
  },
  {
   "cell_type": "code",
   "execution_count": 70,
   "id": "f3a6c98b-925b-4ed0-a313-93ca1c43f746",
   "metadata": {},
   "outputs": [
    {
     "data": {
      "text/plain": [
       "0.8201911664172478"
      ]
     },
     "execution_count": 70,
     "metadata": {},
     "output_type": "execute_result"
    }
   ],
   "source": [
    "eval_results['eval']['auc'][-1]"
   ]
  },
  {
   "cell_type": "code",
   "execution_count": 71,
   "id": "f4d595fd-9557-4064-80bc-67035be19093",
   "metadata": {},
   "outputs": [],
   "source": [
    "ypred = bst_50.predict(X_test)"
   ]
  },
  {
   "cell_type": "code",
   "execution_count": 72,
   "id": "53561e8b-0731-46ca-8184-c894362d8b2a",
   "metadata": {},
   "outputs": [
    {
     "data": {
      "text/plain": [
       "0.818753148029813"
      ]
     },
     "execution_count": 72,
     "metadata": {},
     "output_type": "execute_result"
    }
   ],
   "source": [
    "roc_auc_score(y_test.values, ypred)"
   ]
  },
  {
   "cell_type": "code",
   "execution_count": 73,
   "id": "fa528488-ea75-497d-9ffc-b749027416d4",
   "metadata": {},
   "outputs": [
    {
     "data": {
      "text/plain": [
       "0.637506296059626"
      ]
     },
     "execution_count": 73,
     "metadata": {},
     "output_type": "execute_result"
    }
   ],
   "source": [
    "2 * roc_auc_score(y_test.values, ypred) - 1"
   ]
  },
  {
   "cell_type": "code",
   "execution_count": 74,
   "id": "1f49bb99-9cbf-4f9c-9006-76131fef0033",
   "metadata": {},
   "outputs": [],
   "source": [
    "base_test['score'] = ypred\n",
    "roc_by_week_test = base_test.loc[:, [\"WEEK_NUM\", \"target\", \"score\"]]\\\n",
    "        .sort_values(\"WEEK_NUM\")\\\n",
    "        .groupby(\"WEEK_NUM\")[[\"target\", \"score\"]]\\\n",
    "        .apply(lambda x: roc_auc_score(x[\"target\"], x[\"score\"])).tolist()"
   ]
  },
  {
   "cell_type": "code",
   "execution_count": 75,
   "id": "f2f21e8c-083f-49ee-b6c8-1842636b3e1b",
   "metadata": {},
   "outputs": [
    {
     "data": {
      "text/plain": [
       "PearsonRResult(statistic=-0.27532808776225953, pvalue=0.007900443536147357)"
      ]
     },
     "execution_count": 75,
     "metadata": {},
     "output_type": "execute_result"
    }
   ],
   "source": [
    "pearsonr(roc_by_week_test, base_test.sort_values(\"WEEK_NUM\")\\\n",
    "        .groupby(\"WEEK_NUM\")[\"target\"].mean().tolist())"
   ]
  },
  {
   "cell_type": "code",
   "execution_count": 76,
   "id": "59373117-3698-4731-861c-d7d6723b3831",
   "metadata": {},
   "outputs": [
    {
     "data": {
      "text/plain": [
       "PearsonRResult(statistic=-0.15511678328942619, pvalue=0.13982640956439266)"
      ]
     },
     "execution_count": 76,
     "metadata": {},
     "output_type": "execute_result"
    }
   ],
   "source": [
    "pearsonr(roc_by_week_test, base_test.sort_values(\"WEEK_NUM\")\\\n",
    "        .groupby(\"WEEK_NUM\")[\"target\"].count().tolist())"
   ]
  },
  {
   "cell_type": "code",
   "execution_count": 77,
   "id": "5dfb3bd9-d48d-454b-a31c-8a5d006d174e",
   "metadata": {},
   "outputs": [
    {
     "data": {
      "image/png": "[encoded data removed]",
      "text/plain": [
       "<Figure size 640x480 with 1 Axes>"
      ]
     },
     "metadata": {},
     "output_type": "display_data"
    },
    {
     "data": {
      "image/png": "[encoded data removed]",
      "text/plain": [
       "<Figure size 640x480 with 1 Axes>"
      ]
     },
     "metadata": {},
     "output_type": "display_data"
    }
   ],
   "source": [
    "plt.plot(base_test.sort_values(\"WEEK_NUM\")\\\n",
    "        .groupby(\"WEEK_NUM\")[\"target\"].count().tolist()\n",
    ")\n",
    "plt.show()\n",
    "plt.plot(base_test.sort_values(\"WEEK_NUM\")\\\n",
    "        .groupby(\"WEEK_NUM\")[\"target\"].mean().tolist()\n",
    ")\n",
    "plt.plot(roc_by_week_test)\n",
    "plt.show()"
   ]
  },
  {
   "cell_type": "code",
   "execution_count": 79,
   "id": "a8b6856a-4c68-4afb-9870-d4b44343ec9a",
   "metadata": {},
   "outputs": [],
   "source": [
    "ypred = bst_50.predict(X_train)"
   ]
  },
  {
   "cell_type": "code",
   "execution_count": 80,
   "id": "3c9bfc32-68c0-4f46-b38e-820692bdb3e7",
   "metadata": {},
   "outputs": [
    {
     "data": {
      "text/plain": [
       "0.831755857564108"
      ]
     },
     "execution_count": 80,
     "metadata": {},
     "output_type": "execute_result"
    }
   ],
   "source": [
    "roc_auc_score(y_train.values, ypred)"
   ]
  },
  {
   "cell_type": "code",
   "execution_count": 81,
   "id": "245c15e3-e28c-44ca-a783-749b46afcabe",
   "metadata": {},
   "outputs": [],
   "source": [
    "base_train['score'] = ypred\n",
    "roc_by_week_train = base_train.loc[:, [\"WEEK_NUM\", \"target\", \"score\"]]\\\n",
    "        .sort_values(\"WEEK_NUM\")\\\n",
    "        .groupby(\"WEEK_NUM\")[[\"target\", \"score\"]]\\\n",
    "        .apply(lambda x: roc_auc_score(x[\"target\"], x[\"score\"])).tolist()"
   ]
  },
  {
   "cell_type": "code",
   "execution_count": 84,
   "id": "2bbfe003-53b5-48b2-a54a-1c320cbc32a1",
   "metadata": {},
   "outputs": [],
   "source": [
    "base_train['score'] = ypred\n",
    "gini_in_time = base_train.loc[:, [\"WEEK_NUM\", \"target\", \"score\"]]\\\n",
    "        .sort_values(\"WEEK_NUM\")\\\n",
    "        .groupby(\"WEEK_NUM\")[[\"target\", \"score\"]]\\\n",
    "        .apply(lambda x: 2*roc_auc_score(x[\"target\"], x[\"score\"])-1).tolist()"
   ]
  },
  {
   "cell_type": "code",
   "execution_count": 85,
   "id": "c41bbedd-2a90-4971-8c3a-b0597115e377",
   "metadata": {},
   "outputs": [
    {
     "data": {
      "text/plain": [
       "PearsonRResult(statistic=-0.2123367404699096, pvalue=0.042148544845142126)"
      ]
     },
     "execution_count": 85,
     "metadata": {},
     "output_type": "execute_result"
    }
   ],
   "source": [
    "pearsonr(roc_by_week_train, base_train.sort_values(\"WEEK_NUM\")\\\n",
    "        .groupby(\"WEEK_NUM\")[\"target\"].mean().tolist())"
   ]
  },
  {
   "cell_type": "code",
   "execution_count": 86,
   "id": "eafbebb0-1af7-429d-a94b-a0e34a7d9e59",
   "metadata": {},
   "outputs": [
    {
     "data": {
      "text/plain": [
       "PearsonRResult(statistic=0.04875180014445757, pvalue=0.644445710677392)"
      ]
     },
     "execution_count": 86,
     "metadata": {},
     "output_type": "execute_result"
    }
   ],
   "source": [
    "pearsonr(roc_by_week_train, base_train.sort_values(\"WEEK_NUM\")\\\n",
    "        .groupby(\"WEEK_NUM\")[\"target\"].count().tolist())"
   ]
  },
  {
   "cell_type": "code",
   "execution_count": 64,
   "id": "b782d005-319b-4ccb-ac2a-1b66929d1b8f",
   "metadata": {},
   "outputs": [
    {
     "data": {
      "text/plain": [
       "PearsonRResult(statistic=0.38318487070577567, pvalue=0.00016318488610894515)"
      ]
     },
     "execution_count": 64,
     "metadata": {},
     "output_type": "execute_result"
    }
   ],
   "source": [
    "pearsonr(base_train.sort_values(\"WEEK_NUM\")\\\n",
    "        .groupby(\"WEEK_NUM\")[\"target\"].mean().tolist(), base_train.sort_values(\"WEEK_NUM\")\\\n",
    "        .groupby(\"WEEK_NUM\")[\"target\"].count().tolist())"
   ]
  },
  {
   "cell_type": "markdown",
   "id": "ed66b90b-7221-49da-a4fd-0202fd17f050",
   "metadata": {},
   "source": [
    "Judging by the train set, there is a pretty strong negative correlation between the default ratio and performance.  \n",
    "But what does it tell us? How can it be worse to have larger class imbalance?  \n",
    "Ensemble with cv splits on weeks could be helpful.  \n",
    "Or some knn features with avg target on the nearest neighbors?  \n",
    "Maybe TPR is the week part?  \n",
    "Most likely, the model underestimates the probability of default in the weeks where it's higher"
   ]
  },
  {
   "cell_type": "code",
   "execution_count": 87,
   "id": "912a6c87-fcc8-4633-808c-dc2f707be4b2",
   "metadata": {},
   "outputs": [
    {
     "data": {
      "image/png": "[encoded data removed]",
      "text/plain": [
       "<Figure size 640x480 with 1 Axes>"
      ]
     },
     "metadata": {},
     "output_type": "display_data"
    },
    {
     "data": {
      "image/png": "[encoded data removed]",
      "text/plain": [
       "<Figure size 640x480 with 1 Axes>"
      ]
     },
     "metadata": {},
     "output_type": "display_data"
    }
   ],
   "source": [
    "plt.plot(base_train.sort_values(\"WEEK_NUM\")\\\n",
    "        .groupby(\"WEEK_NUM\")[\"target\"].count().tolist()\n",
    ")\n",
    "plt.show()\n",
    "plt.plot(base_train.sort_values(\"WEEK_NUM\")\\\n",
    "        .groupby(\"WEEK_NUM\")[\"target\"].mean().tolist()\n",
    ")\n",
    "plt.plot(roc_by_week_train)\n",
    "plt.show()"
   ]
  },
  {
   "cell_type": "markdown",
   "id": "0732364e-0a76-4b12-9a54-c7066527b8b0",
   "metadata": {},
   "source": [
    "# Conclusion:\n",
    "It seems the performance gets worse with higher default rate, which may be key to the performance degradation\n",
    "Maybe we can develop better features or improve the goal function - maybe focusing on TPR improvement could help.\n",
    "\n",
    "Doing freq enc of cat features opens path to many new methods for feature eng and selection"
   ]
  },
  {
   "cell_type": "code",
   "execution_count": 72,
   "id": "067fb620-b524-4286-ab11-054c03e91971",
   "metadata": {},
   "outputs": [
    {
     "data": {
      "text/plain": [
       "(array([0.01155312, 0.7784853 ]), array([295733,   9599]))"
      ]
     },
     "execution_count": 72,
     "metadata": {},
     "output_type": "execute_result"
    }
   ],
   "source": [
    "np.unique(ypred, return_counts=True)"
   ]
  },
  {
   "cell_type": "code",
   "execution_count": 170,
   "id": "7355f633-23ac-4863-ab45-08d77826244e",
   "metadata": {},
   "outputs": [],
   "source": [
    "xdf = train_df[['amtinstpaidbefduel24m_4187115A', 'annuity_780A', 'annuitynextmonth_57A', 'avginstallast24m_3658937A', \n",
    "                 'avglnamtstart24m_4525187A', 'avgoutstandbalancel6m_4187114A', 'avgpmtlast12m_4525200A', 'credamount_770A', \n",
    "                 'currdebt_22A', 'currdebtcredtyperange_828A', 'disbursedcredamount_1113A', 'downpmt_116A', \n",
    "                 'inittransactionamount_650A','lastapprcredamount_781A', 'lastrejectcredamount_222A', 'maininc_215A', 'maxannuity_159A',\n",
    "                 'maxdebt4_972A', 'maxinstallast24m_3658928A', 'maxlnamtstart6m_4525199A',\n",
    "                 'maxoutstandbalancel12m_4187113A', 'maxpmtlast3m_4525190A', 'price_1097A', \n",
    "                 'sumoutstandtotal_3546847A', 'sumoutstandtotalest_4493215A', 'totaldebt_9A', 'totalsettled_863A', \n",
    "                 'totinstallast1m_4525188A', 'description_5085714M', 'education_1103M', 'education_88M', 'maritalst_385M', \n",
    "                 'maritalst_893M', 'pmtaverage_3A', 'pmtaverage_4527227A', 'pmtssum_45A', 'target']]"
   ]
  },
  {
   "cell_type": "code",
   "execution_count": 171,
   "id": "e87e36b0-b37e-4e4e-90f7-40adbce690e4",
   "metadata": {},
   "outputs": [],
   "source": [
    "tr_df, te_df = train_test_split(xdf, stratify=xdf['target'], test_size=0.2)\n",
    "tr_df, va_df = train_test_split(tr_df, stratify=tr_df['target'], test_size=0.1)\n",
    "trd = lgb.Dataset(tr_df[[x for x in tr_df.columns if x != 'target']], \n",
    "                  label=tr_df['target'], \n",
    "                  categorical_feature=['description_5085714M', 'education_1103M', 'education_88M', 'maritalst_385M', 'maritalst_893M']\n",
    "                 )\n",
    "ted = lgb.Dataset(te_df[[x for x in te_df.columns if x != 'target']], \n",
    "                  label=te_df['target'], \n",
    "                  categorical_feature=['description_5085714M', 'education_1103M', 'education_88M', 'maritalst_385M', 'maritalst_893M']\n",
    "                 )\n",
    "vad = lgb.Dataset(va_df[[x for x in va_df.columns if x != 'target']], \n",
    "                  label=va_df['target'], \n",
    "                  categorical_feature=['description_5085714M', 'education_1103M', 'education_88M', 'maritalst_385M', 'maritalst_893M']\n",
    "                 )"
   ]
  },
  {
   "cell_type": "code",
   "execution_count": 172,
   "id": "6f55fbaf-d7bd-4a50-a488-61eed9b35911",
   "metadata": {},
   "outputs": [
    {
     "name": "stderr",
     "output_type": "stream",
     "text": [
      "/home/wojciechostrowski/.cache/pypoetry/virtualenvs/kaggle-home-credit-n3bSIZTJ-py3.11/lib/python3.11/site-packages/lightgbm/engine.py:172: UserWarning: Found `n_estimators` in params. Will use it instead of argument\n",
      "  _log_warning(f\"Found `{alias}` in params. Will use it instead of argument\")\n"
     ]
    },
    {
     "name": "stdout",
     "output_type": "stream",
     "text": [
      "Training until validation scores don't improve for 10 rounds\n",
      "[50]\tvalid_0's auc: 0.693382\n",
      "[100]\tvalid_0's auc: 0.707502\n",
      "[150]\tvalid_0's auc: 0.713174\n",
      "[200]\tvalid_0's auc: 0.716931\n",
      "[250]\tvalid_0's auc: 0.720201\n",
      "[300]\tvalid_0's auc: 0.72282\n",
      "[350]\tvalid_0's auc: 0.724252\n",
      "[400]\tvalid_0's auc: 0.726079\n",
      "[450]\tvalid_0's auc: 0.727473\n",
      "[500]\tvalid_0's auc: 0.728876\n",
      "[550]\tvalid_0's auc: 0.729794\n",
      "[600]\tvalid_0's auc: 0.730611\n",
      "[650]\tvalid_0's auc: 0.731657\n",
      "[700]\tvalid_0's auc: 0.732023\n",
      "[750]\tvalid_0's auc: 0.732569\n",
      "Early stopping, best iteration is:\n",
      "[764]\tvalid_0's auc: 0.73284\n"
     ]
    }
   ],
   "source": [
    "params = {\n",
    "    \"boosting_type\": \"gbdt\",\n",
    "    \"objective\": \"binary\",\n",
    "    \"metric\": \"auc\",\n",
    "    \"max_depth\": 3,\n",
    "    \"num_leaves\": 31,\n",
    "    \"learning_rate\": 0.05,\n",
    "    \"feature_fraction\": 0.9,\n",
    "    \"bagging_fraction\": 0.8,\n",
    "    \"bagging_freq\": 5,\n",
    "    \"n_estimators\": 1000,\n",
    "    \"verbose\": -1,\n",
    "}\n",
    "\n",
    "chck = lgb.train(params, trd, valid_sets=vad, callbacks=[lgb.log_evaluation(50), lgb.early_stopping(10)])"
   ]
  },
  {
   "cell_type": "code",
   "execution_count": 173,
   "id": "5ae2f348-1b6f-488a-944b-a6ad94d6ad4d",
   "metadata": {},
   "outputs": [],
   "source": [
    "ypred = chck.predict(te_df[[x for x in te_df.columns if x != 'target']])"
   ]
  },
  {
   "cell_type": "code",
   "execution_count": 174,
   "id": "4511d4fa-70ce-45a7-84b5-4b03c0ef6ab7",
   "metadata": {},
   "outputs": [
    {
     "data": {
      "text/plain": [
       "0.735416318264719"
      ]
     },
     "execution_count": 174,
     "metadata": {},
     "output_type": "execute_result"
    }
   ],
   "source": [
    "roc_auc_score(te_df['target'], ypred)"
   ]
  },
  {
   "cell_type": "code",
   "execution_count": 86,
   "id": "d0bb0554-89be-4623-afbb-6d2b377e60c7",
   "metadata": {},
   "outputs": [
    {
     "data": {
      "text/html": [
       "<div>\n",
       "<style scoped>\n",
       "    .dataframe tbody tr th:only-of-type {\n",
       "        vertical-align: middle;\n",
       "    }\n",
       "\n",
       "    .dataframe tbody tr th {\n",
       "        vertical-align: top;\n",
       "    }\n",
       "\n",
       "    .dataframe thead th {\n",
       "        text-align: right;\n",
       "    }\n",
       "</style>\n",
       "<table border=\"1\" class=\"dataframe\">\n",
       "  <thead>\n",
       "    <tr style=\"text-align: right;\">\n",
       "      <th></th>\n",
       "      <th>dateofbirth_337D</th>\n",
       "      <th>education_1103M</th>\n",
       "      <th>credamount_770A</th>\n",
       "      <th>annuity_780A</th>\n",
       "      <th>price_1097A</th>\n",
       "    </tr>\n",
       "  </thead>\n",
       "  <tbody>\n",
       "    <tr>\n",
       "      <th>1462243</th>\n",
       "      <td>-26397.0</td>\n",
       "      <td>a55475b1</td>\n",
       "      <td>70000.0</td>\n",
       "      <td>7953.4000</td>\n",
       "      <td>0.0</td>\n",
       "    </tr>\n",
       "    <tr>\n",
       "      <th>312003</th>\n",
       "      <td>-17372.0</td>\n",
       "      <td>a55475b1</td>\n",
       "      <td>27278.0</td>\n",
       "      <td>2273.2000</td>\n",
       "      <td>27278.0</td>\n",
       "    </tr>\n",
       "    <tr>\n",
       "      <th>978938</th>\n",
       "      <td>-15562.0</td>\n",
       "      <td>a55475b1</td>\n",
       "      <td>28898.0</td>\n",
       "      <td>2408.2000</td>\n",
       "      <td>38898.0</td>\n",
       "    </tr>\n",
       "    <tr>\n",
       "      <th>933185</th>\n",
       "      <td>-14129.0</td>\n",
       "      <td>a55475b1</td>\n",
       "      <td>27452.4</td>\n",
       "      <td>2287.8000</td>\n",
       "      <td>27452.4</td>\n",
       "    </tr>\n",
       "    <tr>\n",
       "      <th>631232</th>\n",
       "      <td>-24263.0</td>\n",
       "      <td>6b2ae0fa</td>\n",
       "      <td>5980.0</td>\n",
       "      <td>1184.6000</td>\n",
       "      <td>5980.0</td>\n",
       "    </tr>\n",
       "    <tr>\n",
       "      <th>...</th>\n",
       "      <td>...</td>\n",
       "      <td>...</td>\n",
       "      <td>...</td>\n",
       "      <td>...</td>\n",
       "      <td>...</td>\n",
       "    </tr>\n",
       "    <tr>\n",
       "      <th>929628</th>\n",
       "      <td>-17691.0</td>\n",
       "      <td>a55475b1</td>\n",
       "      <td>27650.0</td>\n",
       "      <td>1536.2001</td>\n",
       "      <td>27650.0</td>\n",
       "    </tr>\n",
       "    <tr>\n",
       "      <th>265955</th>\n",
       "      <td>NaN</td>\n",
       "      <td>a55475b1</td>\n",
       "      <td>17978.0</td>\n",
       "      <td>1665.8000</td>\n",
       "      <td>17978.0</td>\n",
       "    </tr>\n",
       "    <tr>\n",
       "      <th>38092</th>\n",
       "      <td>NaN</td>\n",
       "      <td>a55475b1</td>\n",
       "      <td>30000.0</td>\n",
       "      <td>3536.2000</td>\n",
       "      <td>NaN</td>\n",
       "    </tr>\n",
       "    <tr>\n",
       "      <th>1376314</th>\n",
       "      <td>-24366.0</td>\n",
       "      <td>6b2ae0fa</td>\n",
       "      <td>60000.0</td>\n",
       "      <td>11766.2000</td>\n",
       "      <td>0.0</td>\n",
       "    </tr>\n",
       "    <tr>\n",
       "      <th>356995</th>\n",
       "      <td>-14073.0</td>\n",
       "      <td>a55475b1</td>\n",
       "      <td>107760.0</td>\n",
       "      <td>6657.0000</td>\n",
       "      <td>107760.0</td>\n",
       "    </tr>\n",
       "  </tbody>\n",
       "</table>\n",
       "<p>977061 rows × 5 columns</p>\n",
       "</div>"
      ],
      "text/plain": [
       "         dateofbirth_337D education_1103M  credamount_770A  annuity_780A  \\\n",
       "1462243          -26397.0        a55475b1          70000.0     7953.4000   \n",
       "312003           -17372.0        a55475b1          27278.0     2273.2000   \n",
       "978938           -15562.0        a55475b1          28898.0     2408.2000   \n",
       "933185           -14129.0        a55475b1          27452.4     2287.8000   \n",
       "631232           -24263.0        6b2ae0fa           5980.0     1184.6000   \n",
       "...                   ...             ...              ...           ...   \n",
       "929628           -17691.0        a55475b1          27650.0     1536.2001   \n",
       "265955                NaN        a55475b1          17978.0     1665.8000   \n",
       "38092                 NaN        a55475b1          30000.0     3536.2000   \n",
       "1376314          -24366.0        6b2ae0fa          60000.0    11766.2000   \n",
       "356995           -14073.0        a55475b1         107760.0     6657.0000   \n",
       "\n",
       "         price_1097A  \n",
       "1462243          0.0  \n",
       "312003       27278.0  \n",
       "978938       38898.0  \n",
       "933185       27452.4  \n",
       "631232        5980.0  \n",
       "...              ...  \n",
       "929628       27650.0  \n",
       "265955       17978.0  \n",
       "38092            NaN  \n",
       "1376314          0.0  \n",
       "356995      107760.0  \n",
       "\n",
       "[977061 rows x 5 columns]"
      ]
     },
     "execution_count": 86,
     "metadata": {},
     "output_type": "execute_result"
    }
   ],
   "source": [
    "tr_df.iloc[:, :-1]"
   ]
  },
  {
   "cell_type": "code",
   "execution_count": 84,
   "id": "3fd39307-944b-432a-9fe4-dbfd1671dff6",
   "metadata": {},
   "outputs": [],
   "source": [
    "from sklearn.linear_model import SGDClassifier"
   ]
  },
  {
   "cell_type": "code",
   "execution_count": 114,
   "id": "4be3aae9-0c1d-47b0-8bdc-93733d81c8b5",
   "metadata": {},
   "outputs": [],
   "source": [
    "sgd = SGDClassifier(max_iter=1000, loss=\"log_loss\", class_weight=\"balanced\")"
   ]
  },
  {
   "cell_type": "code",
   "execution_count": 119,
   "id": "0f2e91ef-9632-42ac-af48-908f7c7fba00",
   "metadata": {},
   "outputs": [
    {
     "data": {
      "text/html": [
       "<style>#sk-container-id-5 {\n",
       "  /* Definition of color scheme common for light and dark mode */\n",
       "  --sklearn-color-text: black;\n",
       "  --sklearn-color-line: gray;\n",
       "  /* Definition of color scheme for unfitted estimators */\n",
       "  --sklearn-color-unfitted-level-0: #fff5e6;\n",
       "  --sklearn-color-unfitted-level-1: #f6e4d2;\n",
       "  --sklearn-color-unfitted-level-2: #ffe0b3;\n",
       "  --sklearn-color-unfitted-level-3: chocolate;\n",
       "  /* Definition of color scheme for fitted estimators */\n",
       "  --sklearn-color-fitted-level-0: #f0f8ff;\n",
       "  --sklearn-color-fitted-level-1: #d4ebff;\n",
       "  --sklearn-color-fitted-level-2: #b3dbfd;\n",
       "  --sklearn-color-fitted-level-3: cornflowerblue;\n",
       "\n",
       "  /* Specific color for light theme */\n",
       "  --sklearn-color-text-on-default-background: var(--sg-text-color, var(--theme-code-foreground, var(--jp-content-font-color1, black)));\n",
       "  --sklearn-color-background: var(--sg-background-color, var(--theme-background, var(--jp-layout-color0, white)));\n",
       "  --sklearn-color-border-box: var(--sg-text-color, var(--theme-code-foreground, var(--jp-content-font-color1, black)));\n",
       "  --sklearn-color-icon: #696969;\n",
       "\n",
       "  @media (prefers-color-scheme: dark) {\n",
       "    /* Redefinition of color scheme for dark theme */\n",
       "    --sklearn-color-text-on-default-background: var(--sg-text-color, var(--theme-code-foreground, var(--jp-content-font-color1, white)));\n",
       "    --sklearn-color-background: var(--sg-background-color, var(--theme-background, var(--jp-layout-color0, #111)));\n",
       "    --sklearn-color-border-box: var(--sg-text-color, var(--theme-code-foreground, var(--jp-content-font-color1, white)));\n",
       "    --sklearn-color-icon: #878787;\n",
       "  }\n",
       "}\n",
       "\n",
       "#sk-container-id-5 {\n",
       "  color: var(--sklearn-color-text);\n",
       "}\n",
       "\n",
       "#sk-container-id-5 pre {\n",
       "  padding: 0;\n",
       "}\n",
       "\n",
       "#sk-container-id-5 input.sk-hidden--visually {\n",
       "  border: 0;\n",
       "  clip: rect(1px 1px 1px 1px);\n",
       "  clip: rect(1px, 1px, 1px, 1px);\n",
       "  height: 1px;\n",
       "  margin: -1px;\n",
       "  overflow: hidden;\n",
       "  padding: 0;\n",
       "  position: absolute;\n",
       "  width: 1px;\n",
       "}\n",
       "\n",
       "#sk-container-id-5 div.sk-dashed-wrapped {\n",
       "  border: 1px dashed var(--sklearn-color-line);\n",
       "  margin: 0 0.4em 0.5em 0.4em;\n",
       "  box-sizing: border-box;\n",
       "  padding-bottom: 0.4em;\n",
       "  background-color: var(--sklearn-color-background);\n",
       "}\n",
       "\n",
       "#sk-container-id-5 div.sk-container {\n",
       "  /* jupyter's `normalize.less` sets `[hidden] { display: none; }`\n",
       "     but bootstrap.min.css set `[hidden] { display: none !important; }`\n",
       "     so we also need the `!important` here to be able to override the\n",
       "     default hidden behavior on the sphinx rendered scikit-learn.org.\n",
       "     See: https://github.com/scikit-learn/scikit-learn/issues/21755 */\n",
       "  display: inline-block !important;\n",
       "  position: relative;\n",
       "}\n",
       "\n",
       "#sk-container-id-5 div.sk-text-repr-fallback {\n",
       "  display: none;\n",
       "}\n",
       "\n",
       "div.sk-parallel-item,\n",
       "div.sk-serial,\n",
       "div.sk-item {\n",
       "  /* draw centered vertical line to link estimators */\n",
       "  background-image: linear-gradient(var(--sklearn-color-text-on-default-background), var(--sklearn-color-text-on-default-background));\n",
       "  background-size: 2px 100%;\n",
       "  background-repeat: no-repeat;\n",
       "  background-position: center center;\n",
       "}\n",
       "\n",
       "/* Parallel-specific style estimator block */\n",
       "\n",
       "#sk-container-id-5 div.sk-parallel-item::after {\n",
       "  content: \"\";\n",
       "  width: 100%;\n",
       "  border-bottom: 2px solid var(--sklearn-color-text-on-default-background);\n",
       "  flex-grow: 1;\n",
       "}\n",
       "\n",
       "#sk-container-id-5 div.sk-parallel {\n",
       "  display: flex;\n",
       "  align-items: stretch;\n",
       "  justify-content: center;\n",
       "  background-color: var(--sklearn-color-background);\n",
       "  position: relative;\n",
       "}\n",
       "\n",
       "#sk-container-id-5 div.sk-parallel-item {\n",
       "  display: flex;\n",
       "  flex-direction: column;\n",
       "}\n",
       "\n",
       "#sk-container-id-5 div.sk-parallel-item:first-child::after {\n",
       "  align-self: flex-end;\n",
       "  width: 50%;\n",
       "}\n",
       "\n",
       "#sk-container-id-5 div.sk-parallel-item:last-child::after {\n",
       "  align-self: flex-start;\n",
       "  width: 50%;\n",
       "}\n",
       "\n",
       "#sk-container-id-5 div.sk-parallel-item:only-child::after {\n",
       "  width: 0;\n",
       "}\n",
       "\n",
       "/* Serial-specific style estimator block */\n",
       "\n",
       "#sk-container-id-5 div.sk-serial {\n",
       "  display: flex;\n",
       "  flex-direction: column;\n",
       "  align-items: center;\n",
       "  background-color: var(--sklearn-color-background);\n",
       "  padding-right: 1em;\n",
       "  padding-left: 1em;\n",
       "}\n",
       "\n",
       "\n",
       "/* Toggleable style: style used for estimator/Pipeline/ColumnTransformer box that is\n",
       "clickable and can be expanded/collapsed.\n",
       "- Pipeline and ColumnTransformer use this feature and define the default style\n",
       "- Estimators will overwrite some part of the style using the `sk-estimator` class\n",
       "*/\n",
       "\n",
       "/* Pipeline and ColumnTransformer style (default) */\n",
       "\n",
       "#sk-container-id-5 div.sk-toggleable {\n",
       "  /* Default theme specific background. It is overwritten whether we have a\n",
       "  specific estimator or a Pipeline/ColumnTransformer */\n",
       "  background-color: var(--sklearn-color-background);\n",
       "}\n",
       "\n",
       "/* Toggleable label */\n",
       "#sk-container-id-5 label.sk-toggleable__label {\n",
       "  cursor: pointer;\n",
       "  display: block;\n",
       "  width: 100%;\n",
       "  margin-bottom: 0;\n",
       "  padding: 0.5em;\n",
       "  box-sizing: border-box;\n",
       "  text-align: center;\n",
       "}\n",
       "\n",
       "#sk-container-id-5 label.sk-toggleable__label-arrow:before {\n",
       "  /* Arrow on the left of the label */\n",
       "  content: \"▸\";\n",
       "  float: left;\n",
       "  margin-right: 0.25em;\n",
       "  color: var(--sklearn-color-icon);\n",
       "}\n",
       "\n",
       "#sk-container-id-5 label.sk-toggleable__label-arrow:hover:before {\n",
       "  color: var(--sklearn-color-text);\n",
       "}\n",
       "\n",
       "/* Toggleable content - dropdown */\n",
       "\n",
       "#sk-container-id-5 div.sk-toggleable__content {\n",
       "  max-height: 0;\n",
       "  max-width: 0;\n",
       "  overflow: hidden;\n",
       "  text-align: left;\n",
       "  /* unfitted */\n",
       "  background-color: var(--sklearn-color-unfitted-level-0);\n",
       "}\n",
       "\n",
       "#sk-container-id-5 div.sk-toggleable__content.fitted {\n",
       "  /* fitted */\n",
       "  background-color: var(--sklearn-color-fitted-level-0);\n",
       "}\n",
       "\n",
       "#sk-container-id-5 div.sk-toggleable__content pre {\n",
       "  margin: 0.2em;\n",
       "  border-radius: 0.25em;\n",
       "  color: var(--sklearn-color-text);\n",
       "  /* unfitted */\n",
       "  background-color: var(--sklearn-color-unfitted-level-0);\n",
       "}\n",
       "\n",
       "#sk-container-id-5 div.sk-toggleable__content.fitted pre {\n",
       "  /* unfitted */\n",
       "  background-color: var(--sklearn-color-fitted-level-0);\n",
       "}\n",
       "\n",
       "#sk-container-id-5 input.sk-toggleable__control:checked~div.sk-toggleable__content {\n",
       "  /* Expand drop-down */\n",
       "  max-height: 200px;\n",
       "  max-width: 100%;\n",
       "  overflow: auto;\n",
       "}\n",
       "\n",
       "#sk-container-id-5 input.sk-toggleable__control:checked~label.sk-toggleable__label-arrow:before {\n",
       "  content: \"▾\";\n",
       "}\n",
       "\n",
       "/* Pipeline/ColumnTransformer-specific style */\n",
       "\n",
       "#sk-container-id-5 div.sk-label input.sk-toggleable__control:checked~label.sk-toggleable__label {\n",
       "  color: var(--sklearn-color-text);\n",
       "  background-color: var(--sklearn-color-unfitted-level-2);\n",
       "}\n",
       "\n",
       "#sk-container-id-5 div.sk-label.fitted input.sk-toggleable__control:checked~label.sk-toggleable__label {\n",
       "  background-color: var(--sklearn-color-fitted-level-2);\n",
       "}\n",
       "\n",
       "/* Estimator-specific style */\n",
       "\n",
       "/* Colorize estimator box */\n",
       "#sk-container-id-5 div.sk-estimator input.sk-toggleable__control:checked~label.sk-toggleable__label {\n",
       "  /* unfitted */\n",
       "  background-color: var(--sklearn-color-unfitted-level-2);\n",
       "}\n",
       "\n",
       "#sk-container-id-5 div.sk-estimator.fitted input.sk-toggleable__control:checked~label.sk-toggleable__label {\n",
       "  /* fitted */\n",
       "  background-color: var(--sklearn-color-fitted-level-2);\n",
       "}\n",
       "\n",
       "#sk-container-id-5 div.sk-label label.sk-toggleable__label,\n",
       "#sk-container-id-5 div.sk-label label {\n",
       "  /* The background is the default theme color */\n",
       "  color: var(--sklearn-color-text-on-default-background);\n",
       "}\n",
       "\n",
       "/* On hover, darken the color of the background */\n",
       "#sk-container-id-5 div.sk-label:hover label.sk-toggleable__label {\n",
       "  color: var(--sklearn-color-text);\n",
       "  background-color: var(--sklearn-color-unfitted-level-2);\n",
       "}\n",
       "\n",
       "/* Label box, darken color on hover, fitted */\n",
       "#sk-container-id-5 div.sk-label.fitted:hover label.sk-toggleable__label.fitted {\n",
       "  color: var(--sklearn-color-text);\n",
       "  background-color: var(--sklearn-color-fitted-level-2);\n",
       "}\n",
       "\n",
       "/* Estimator label */\n",
       "\n",
       "#sk-container-id-5 div.sk-label label {\n",
       "  font-family: monospace;\n",
       "  font-weight: bold;\n",
       "  display: inline-block;\n",
       "  line-height: 1.2em;\n",
       "}\n",
       "\n",
       "#sk-container-id-5 div.sk-label-container {\n",
       "  text-align: center;\n",
       "}\n",
       "\n",
       "/* Estimator-specific */\n",
       "#sk-container-id-5 div.sk-estimator {\n",
       "  font-family: monospace;\n",
       "  border: 1px dotted var(--sklearn-color-border-box);\n",
       "  border-radius: 0.25em;\n",
       "  box-sizing: border-box;\n",
       "  margin-bottom: 0.5em;\n",
       "  /* unfitted */\n",
       "  background-color: var(--sklearn-color-unfitted-level-0);\n",
       "}\n",
       "\n",
       "#sk-container-id-5 div.sk-estimator.fitted {\n",
       "  /* fitted */\n",
       "  background-color: var(--sklearn-color-fitted-level-0);\n",
       "}\n",
       "\n",
       "/* on hover */\n",
       "#sk-container-id-5 div.sk-estimator:hover {\n",
       "  /* unfitted */\n",
       "  background-color: var(--sklearn-color-unfitted-level-2);\n",
       "}\n",
       "\n",
       "#sk-container-id-5 div.sk-estimator.fitted:hover {\n",
       "  /* fitted */\n",
       "  background-color: var(--sklearn-color-fitted-level-2);\n",
       "}\n",
       "\n",
       "/* Specification for estimator info (e.g. \"i\" and \"?\") */\n",
       "\n",
       "/* Common style for \"i\" and \"?\" */\n",
       "\n",
       ".sk-estimator-doc-link,\n",
       "a:link.sk-estimator-doc-link,\n",
       "a:visited.sk-estimator-doc-link {\n",
       "  float: right;\n",
       "  font-size: smaller;\n",
       "  line-height: 1em;\n",
       "  font-family: monospace;\n",
       "  background-color: var(--sklearn-color-background);\n",
       "  border-radius: 1em;\n",
       "  height: 1em;\n",
       "  width: 1em;\n",
       "  text-decoration: none !important;\n",
       "  margin-left: 1ex;\n",
       "  /* unfitted */\n",
       "  border: var(--sklearn-color-unfitted-level-1) 1pt solid;\n",
       "  color: var(--sklearn-color-unfitted-level-1);\n",
       "}\n",
       "\n",
       ".sk-estimator-doc-link.fitted,\n",
       "a:link.sk-estimator-doc-link.fitted,\n",
       "a:visited.sk-estimator-doc-link.fitted {\n",
       "  /* fitted */\n",
       "  border: var(--sklearn-color-fitted-level-1) 1pt solid;\n",
       "  color: var(--sklearn-color-fitted-level-1);\n",
       "}\n",
       "\n",
       "/* On hover */\n",
       "div.sk-estimator:hover .sk-estimator-doc-link:hover,\n",
       ".sk-estimator-doc-link:hover,\n",
       "div.sk-label-container:hover .sk-estimator-doc-link:hover,\n",
       ".sk-estimator-doc-link:hover {\n",
       "  /* unfitted */\n",
       "  background-color: var(--sklearn-color-unfitted-level-3);\n",
       "  color: var(--sklearn-color-background);\n",
       "  text-decoration: none;\n",
       "}\n",
       "\n",
       "div.sk-estimator.fitted:hover .sk-estimator-doc-link.fitted:hover,\n",
       ".sk-estimator-doc-link.fitted:hover,\n",
       "div.sk-label-container:hover .sk-estimator-doc-link.fitted:hover,\n",
       ".sk-estimator-doc-link.fitted:hover {\n",
       "  /* fitted */\n",
       "  background-color: var(--sklearn-color-fitted-level-3);\n",
       "  color: var(--sklearn-color-background);\n",
       "  text-decoration: none;\n",
       "}\n",
       "\n",
       "/* Span, style for the box shown on hovering the info icon */\n",
       ".sk-estimator-doc-link span {\n",
       "  display: none;\n",
       "  z-index: 9999;\n",
       "  position: relative;\n",
       "  font-weight: normal;\n",
       "  right: .2ex;\n",
       "  padding: .5ex;\n",
       "  margin: .5ex;\n",
       "  width: min-content;\n",
       "  min-width: 20ex;\n",
       "  max-width: 50ex;\n",
       "  color: var(--sklearn-color-text);\n",
       "  box-shadow: 2pt 2pt 4pt #999;\n",
       "  /* unfitted */\n",
       "  background: var(--sklearn-color-unfitted-level-0);\n",
       "  border: .5pt solid var(--sklearn-color-unfitted-level-3);\n",
       "}\n",
       "\n",
       ".sk-estimator-doc-link.fitted span {\n",
       "  /* fitted */\n",
       "  background: var(--sklearn-color-fitted-level-0);\n",
       "  border: var(--sklearn-color-fitted-level-3);\n",
       "}\n",
       "\n",
       ".sk-estimator-doc-link:hover span {\n",
       "  display: block;\n",
       "}\n",
       "\n",
       "/* \"?\"-specific style due to the `<a>` HTML tag */\n",
       "\n",
       "#sk-container-id-5 a.estimator_doc_link {\n",
       "  float: right;\n",
       "  font-size: 1rem;\n",
       "  line-height: 1em;\n",
       "  font-family: monospace;\n",
       "  background-color: var(--sklearn-color-background);\n",
       "  border-radius: 1rem;\n",
       "  height: 1rem;\n",
       "  width: 1rem;\n",
       "  text-decoration: none;\n",
       "  /* unfitted */\n",
       "  color: var(--sklearn-color-unfitted-level-1);\n",
       "  border: var(--sklearn-color-unfitted-level-1) 1pt solid;\n",
       "}\n",
       "\n",
       "#sk-container-id-5 a.estimator_doc_link.fitted {\n",
       "  /* fitted */\n",
       "  border: var(--sklearn-color-fitted-level-1) 1pt solid;\n",
       "  color: var(--sklearn-color-fitted-level-1);\n",
       "}\n",
       "\n",
       "/* On hover */\n",
       "#sk-container-id-5 a.estimator_doc_link:hover {\n",
       "  /* unfitted */\n",
       "  background-color: var(--sklearn-color-unfitted-level-3);\n",
       "  color: var(--sklearn-color-background);\n",
       "  text-decoration: none;\n",
       "}\n",
       "\n",
       "#sk-container-id-5 a.estimator_doc_link.fitted:hover {\n",
       "  /* fitted */\n",
       "  background-color: var(--sklearn-color-fitted-level-3);\n",
       "}\n",
       "</style><div id=\"sk-container-id-5\" class=\"sk-top-container\"><div class=\"sk-text-repr-fallback\"><pre>SGDClassifier(class_weight=&#x27;balanced&#x27;, loss=&#x27;log_loss&#x27;)</pre><b>In a Jupyter environment, please rerun this cell to show the HTML representation or trust the notebook. <br />On GitHub, the HTML representation is unable to render, please try loading this page with nbviewer.org.</b></div><div class=\"sk-container\" hidden><div class=\"sk-item\"><div class=\"sk-estimator fitted sk-toggleable\"><input class=\"sk-toggleable__control sk-hidden--visually\" id=\"sk-estimator-id-5\" type=\"checkbox\" checked><label for=\"sk-estimator-id-5\" class=\"sk-toggleable__label fitted sk-toggleable__label-arrow fitted\">&nbsp;&nbsp;SGDClassifier<a class=\"sk-estimator-doc-link fitted\" rel=\"noreferrer\" target=\"_blank\" href=\"https://scikit-learn.org/1.4/modules/generated/sklearn.linear_model.SGDClassifier.html\">?<span>Documentation for SGDClassifier</span></a><span class=\"sk-estimator-doc-link fitted\">i<span>Fitted</span></span></label><div class=\"sk-toggleable__content fitted\"><pre>SGDClassifier(class_weight=&#x27;balanced&#x27;, loss=&#x27;log_loss&#x27;)</pre></div> </div></div></div></div>"
      ],
      "text/plain": [
       "SGDClassifier(class_weight='balanced', loss='log_loss')"
      ]
     },
     "execution_count": 119,
     "metadata": {},
     "output_type": "execute_result"
    }
   ],
   "source": [
    "sgd.fit(tr_df[[x for x in tr_df.columns if x not in ['description_5085714M', 'education_1103M', 'education_88M', 'maritalst_385M', \n",
    "                 'maritalst_893M', 'target']]].fillna(0), tr_df['target'])"
   ]
  },
  {
   "cell_type": "code",
   "execution_count": 120,
   "id": "c6653015-6f7b-476a-8b28-6fb4edc45b00",
   "metadata": {},
   "outputs": [],
   "source": [
    "pred = sgd.predict(te_df[[x for x in tr_df.columns if x not in ['description_5085714M', 'education_1103M', 'education_88M', 'maritalst_385M', \n",
    "                 'maritalst_893M', 'target']]].fillna(0))"
   ]
  },
  {
   "cell_type": "code",
   "execution_count": 121,
   "id": "3ed35c3c-ccf7-47ae-8788-e03c43a92224",
   "metadata": {},
   "outputs": [
    {
     "data": {
      "text/plain": [
       "0.5231452060506899"
      ]
     },
     "execution_count": 121,
     "metadata": {},
     "output_type": "execute_result"
    }
   ],
   "source": [
    "roc_auc_score(te_df['target'], pred)"
   ]
  },
  {
   "cell_type": "code",
   "execution_count": 146,
   "id": "9bd2cfbb-f160-495e-be88-00ca9b9c4a67",
   "metadata": {},
   "outputs": [
    {
     "ename": "ValueError",
     "evalue": "Classification metrics can't handle a mix of binary and continuous targets",
     "output_type": "error",
     "traceback": [
      "\u001b[0;31m---------------------------------------------------------------------------\u001b[0m",
      "\u001b[0;31mValueError\u001b[0m                                Traceback (most recent call last)",
      "Cell \u001b[0;32mIn[146], line 1\u001b[0m\n\u001b[0;32m----> 1\u001b[0m \u001b[43mf1_score\u001b[49m\u001b[43m(\u001b[49m\u001b[43mte_df\u001b[49m\u001b[43m[\u001b[49m\u001b[38;5;124;43m'\u001b[39;49m\u001b[38;5;124;43mtarget\u001b[39;49m\u001b[38;5;124;43m'\u001b[39;49m\u001b[43m]\u001b[49m\u001b[43m,\u001b[49m\u001b[43m \u001b[49m\u001b[43mypred\u001b[49m\u001b[43m)\u001b[49m\n",
      "File \u001b[0;32m~/.cache/pypoetry/virtualenvs/kaggle-home-credit-n3bSIZTJ-py3.11/lib/python3.11/site-packages/sklearn/utils/_param_validation.py:213\u001b[0m, in \u001b[0;36mvalidate_params.<locals>.decorator.<locals>.wrapper\u001b[0;34m(*args, **kwargs)\u001b[0m\n\u001b[1;32m    207\u001b[0m \u001b[38;5;28;01mtry\u001b[39;00m:\n\u001b[1;32m    208\u001b[0m     \u001b[38;5;28;01mwith\u001b[39;00m config_context(\n\u001b[1;32m    209\u001b[0m         skip_parameter_validation\u001b[38;5;241m=\u001b[39m(\n\u001b[1;32m    210\u001b[0m             prefer_skip_nested_validation \u001b[38;5;129;01mor\u001b[39;00m global_skip_validation\n\u001b[1;32m    211\u001b[0m         )\n\u001b[1;32m    212\u001b[0m     ):\n\u001b[0;32m--> 213\u001b[0m         \u001b[38;5;28;01mreturn\u001b[39;00m \u001b[43mfunc\u001b[49m\u001b[43m(\u001b[49m\u001b[38;5;241;43m*\u001b[39;49m\u001b[43margs\u001b[49m\u001b[43m,\u001b[49m\u001b[43m \u001b[49m\u001b[38;5;241;43m*\u001b[39;49m\u001b[38;5;241;43m*\u001b[39;49m\u001b[43mkwargs\u001b[49m\u001b[43m)\u001b[49m\n\u001b[1;32m    214\u001b[0m \u001b[38;5;28;01mexcept\u001b[39;00m InvalidParameterError \u001b[38;5;28;01mas\u001b[39;00m e:\n\u001b[1;32m    215\u001b[0m     \u001b[38;5;66;03m# When the function is just a wrapper around an estimator, we allow\u001b[39;00m\n\u001b[1;32m    216\u001b[0m     \u001b[38;5;66;03m# the function to delegate validation to the estimator, but we replace\u001b[39;00m\n\u001b[1;32m    217\u001b[0m     \u001b[38;5;66;03m# the name of the estimator by the name of the function in the error\u001b[39;00m\n\u001b[1;32m    218\u001b[0m     \u001b[38;5;66;03m# message to avoid confusion.\u001b[39;00m\n\u001b[1;32m    219\u001b[0m     msg \u001b[38;5;241m=\u001b[39m re\u001b[38;5;241m.\u001b[39msub(\n\u001b[1;32m    220\u001b[0m         \u001b[38;5;124mr\u001b[39m\u001b[38;5;124m\"\u001b[39m\u001b[38;5;124mparameter of \u001b[39m\u001b[38;5;124m\\\u001b[39m\u001b[38;5;124mw+ must be\u001b[39m\u001b[38;5;124m\"\u001b[39m,\n\u001b[1;32m    221\u001b[0m         \u001b[38;5;124mf\u001b[39m\u001b[38;5;124m\"\u001b[39m\u001b[38;5;124mparameter of \u001b[39m\u001b[38;5;132;01m{\u001b[39;00mfunc\u001b[38;5;241m.\u001b[39m\u001b[38;5;18m__qualname__\u001b[39m\u001b[38;5;132;01m}\u001b[39;00m\u001b[38;5;124m must be\u001b[39m\u001b[38;5;124m\"\u001b[39m,\n\u001b[1;32m    222\u001b[0m         \u001b[38;5;28mstr\u001b[39m(e),\n\u001b[1;32m    223\u001b[0m     )\n",
      "File \u001b[0;32m~/.cache/pypoetry/virtualenvs/kaggle-home-credit-n3bSIZTJ-py3.11/lib/python3.11/site-packages/sklearn/metrics/_classification.py:1271\u001b[0m, in \u001b[0;36mf1_score\u001b[0;34m(y_true, y_pred, labels, pos_label, average, sample_weight, zero_division)\u001b[0m\n\u001b[1;32m   1091\u001b[0m \u001b[38;5;129m@validate_params\u001b[39m(\n\u001b[1;32m   1092\u001b[0m     {\n\u001b[1;32m   1093\u001b[0m         \u001b[38;5;124m\"\u001b[39m\u001b[38;5;124my_true\u001b[39m\u001b[38;5;124m\"\u001b[39m: [\u001b[38;5;124m\"\u001b[39m\u001b[38;5;124marray-like\u001b[39m\u001b[38;5;124m\"\u001b[39m, \u001b[38;5;124m\"\u001b[39m\u001b[38;5;124msparse matrix\u001b[39m\u001b[38;5;124m\"\u001b[39m],\n\u001b[0;32m   (...)\u001b[0m\n\u001b[1;32m   1118\u001b[0m     zero_division\u001b[38;5;241m=\u001b[39m\u001b[38;5;124m\"\u001b[39m\u001b[38;5;124mwarn\u001b[39m\u001b[38;5;124m\"\u001b[39m,\n\u001b[1;32m   1119\u001b[0m ):\n\u001b[1;32m   1120\u001b[0m \u001b[38;5;250m    \u001b[39m\u001b[38;5;124;03m\"\"\"Compute the F1 score, also known as balanced F-score or F-measure.\u001b[39;00m\n\u001b[1;32m   1121\u001b[0m \n\u001b[1;32m   1122\u001b[0m \u001b[38;5;124;03m    The F1 score can be interpreted as a harmonic mean of the precision and\u001b[39;00m\n\u001b[0;32m   (...)\u001b[0m\n\u001b[1;32m   1269\u001b[0m \u001b[38;5;124;03m    array([0.66666667, 1.        , 0.66666667])\u001b[39;00m\n\u001b[1;32m   1270\u001b[0m \u001b[38;5;124;03m    \"\"\"\u001b[39;00m\n\u001b[0;32m-> 1271\u001b[0m     \u001b[38;5;28;01mreturn\u001b[39;00m \u001b[43mfbeta_score\u001b[49m\u001b[43m(\u001b[49m\n\u001b[1;32m   1272\u001b[0m \u001b[43m        \u001b[49m\u001b[43my_true\u001b[49m\u001b[43m,\u001b[49m\n\u001b[1;32m   1273\u001b[0m \u001b[43m        \u001b[49m\u001b[43my_pred\u001b[49m\u001b[43m,\u001b[49m\n\u001b[1;32m   1274\u001b[0m \u001b[43m        \u001b[49m\u001b[43mbeta\u001b[49m\u001b[38;5;241;43m=\u001b[39;49m\u001b[38;5;241;43m1\u001b[39;49m\u001b[43m,\u001b[49m\n\u001b[1;32m   1275\u001b[0m \u001b[43m        \u001b[49m\u001b[43mlabels\u001b[49m\u001b[38;5;241;43m=\u001b[39;49m\u001b[43mlabels\u001b[49m\u001b[43m,\u001b[49m\n\u001b[1;32m   1276\u001b[0m \u001b[43m        \u001b[49m\u001b[43mpos_label\u001b[49m\u001b[38;5;241;43m=\u001b[39;49m\u001b[43mpos_label\u001b[49m\u001b[43m,\u001b[49m\n\u001b[1;32m   1277\u001b[0m \u001b[43m        \u001b[49m\u001b[43maverage\u001b[49m\u001b[38;5;241;43m=\u001b[39;49m\u001b[43maverage\u001b[49m\u001b[43m,\u001b[49m\n\u001b[1;32m   1278\u001b[0m \u001b[43m        \u001b[49m\u001b[43msample_weight\u001b[49m\u001b[38;5;241;43m=\u001b[39;49m\u001b[43msample_weight\u001b[49m\u001b[43m,\u001b[49m\n\u001b[1;32m   1279\u001b[0m \u001b[43m        \u001b[49m\u001b[43mzero_division\u001b[49m\u001b[38;5;241;43m=\u001b[39;49m\u001b[43mzero_division\u001b[49m\u001b[43m,\u001b[49m\n\u001b[1;32m   1280\u001b[0m \u001b[43m    \u001b[49m\u001b[43m)\u001b[49m\n",
      "File \u001b[0;32m~/.cache/pypoetry/virtualenvs/kaggle-home-credit-n3bSIZTJ-py3.11/lib/python3.11/site-packages/sklearn/utils/_param_validation.py:186\u001b[0m, in \u001b[0;36mvalidate_params.<locals>.decorator.<locals>.wrapper\u001b[0;34m(*args, **kwargs)\u001b[0m\n\u001b[1;32m    184\u001b[0m global_skip_validation \u001b[38;5;241m=\u001b[39m get_config()[\u001b[38;5;124m\"\u001b[39m\u001b[38;5;124mskip_parameter_validation\u001b[39m\u001b[38;5;124m\"\u001b[39m]\n\u001b[1;32m    185\u001b[0m \u001b[38;5;28;01mif\u001b[39;00m global_skip_validation:\n\u001b[0;32m--> 186\u001b[0m     \u001b[38;5;28;01mreturn\u001b[39;00m \u001b[43mfunc\u001b[49m\u001b[43m(\u001b[49m\u001b[38;5;241;43m*\u001b[39;49m\u001b[43margs\u001b[49m\u001b[43m,\u001b[49m\u001b[43m \u001b[49m\u001b[38;5;241;43m*\u001b[39;49m\u001b[38;5;241;43m*\u001b[39;49m\u001b[43mkwargs\u001b[49m\u001b[43m)\u001b[49m\n\u001b[1;32m    188\u001b[0m func_sig \u001b[38;5;241m=\u001b[39m signature(func)\n\u001b[1;32m    190\u001b[0m \u001b[38;5;66;03m# Map *args/**kwargs to the function signature\u001b[39;00m\n",
      "File \u001b[0;32m~/.cache/pypoetry/virtualenvs/kaggle-home-credit-n3bSIZTJ-py3.11/lib/python3.11/site-packages/sklearn/metrics/_classification.py:1463\u001b[0m, in \u001b[0;36mfbeta_score\u001b[0;34m(y_true, y_pred, beta, labels, pos_label, average, sample_weight, zero_division)\u001b[0m\n\u001b[1;32m   1283\u001b[0m \u001b[38;5;129m@validate_params\u001b[39m(\n\u001b[1;32m   1284\u001b[0m     {\n\u001b[1;32m   1285\u001b[0m         \u001b[38;5;124m\"\u001b[39m\u001b[38;5;124my_true\u001b[39m\u001b[38;5;124m\"\u001b[39m: [\u001b[38;5;124m\"\u001b[39m\u001b[38;5;124marray-like\u001b[39m\u001b[38;5;124m\"\u001b[39m, \u001b[38;5;124m\"\u001b[39m\u001b[38;5;124msparse matrix\u001b[39m\u001b[38;5;124m\"\u001b[39m],\n\u001b[0;32m   (...)\u001b[0m\n\u001b[1;32m   1312\u001b[0m     zero_division\u001b[38;5;241m=\u001b[39m\u001b[38;5;124m\"\u001b[39m\u001b[38;5;124mwarn\u001b[39m\u001b[38;5;124m\"\u001b[39m,\n\u001b[1;32m   1313\u001b[0m ):\n\u001b[1;32m   1314\u001b[0m \u001b[38;5;250m    \u001b[39m\u001b[38;5;124;03m\"\"\"Compute the F-beta score.\u001b[39;00m\n\u001b[1;32m   1315\u001b[0m \n\u001b[1;32m   1316\u001b[0m \u001b[38;5;124;03m    The F-beta score is the weighted harmonic mean of precision and recall,\u001b[39;00m\n\u001b[0;32m   (...)\u001b[0m\n\u001b[1;32m   1460\u001b[0m \u001b[38;5;124;03m    0.12...\u001b[39;00m\n\u001b[1;32m   1461\u001b[0m \u001b[38;5;124;03m    \"\"\"\u001b[39;00m\n\u001b[0;32m-> 1463\u001b[0m     _, _, f, _ \u001b[38;5;241m=\u001b[39m \u001b[43mprecision_recall_fscore_support\u001b[49m\u001b[43m(\u001b[49m\n\u001b[1;32m   1464\u001b[0m \u001b[43m        \u001b[49m\u001b[43my_true\u001b[49m\u001b[43m,\u001b[49m\n\u001b[1;32m   1465\u001b[0m \u001b[43m        \u001b[49m\u001b[43my_pred\u001b[49m\u001b[43m,\u001b[49m\n\u001b[1;32m   1466\u001b[0m \u001b[43m        \u001b[49m\u001b[43mbeta\u001b[49m\u001b[38;5;241;43m=\u001b[39;49m\u001b[43mbeta\u001b[49m\u001b[43m,\u001b[49m\n\u001b[1;32m   1467\u001b[0m \u001b[43m        \u001b[49m\u001b[43mlabels\u001b[49m\u001b[38;5;241;43m=\u001b[39;49m\u001b[43mlabels\u001b[49m\u001b[43m,\u001b[49m\n\u001b[1;32m   1468\u001b[0m \u001b[43m        \u001b[49m\u001b[43mpos_label\u001b[49m\u001b[38;5;241;43m=\u001b[39;49m\u001b[43mpos_label\u001b[49m\u001b[43m,\u001b[49m\n\u001b[1;32m   1469\u001b[0m \u001b[43m        \u001b[49m\u001b[43maverage\u001b[49m\u001b[38;5;241;43m=\u001b[39;49m\u001b[43maverage\u001b[49m\u001b[43m,\u001b[49m\n\u001b[1;32m   1470\u001b[0m \u001b[43m        \u001b[49m\u001b[43mwarn_for\u001b[49m\u001b[38;5;241;43m=\u001b[39;49m\u001b[43m(\u001b[49m\u001b[38;5;124;43m\"\u001b[39;49m\u001b[38;5;124;43mf-score\u001b[39;49m\u001b[38;5;124;43m\"\u001b[39;49m\u001b[43m,\u001b[49m\u001b[43m)\u001b[49m\u001b[43m,\u001b[49m\n\u001b[1;32m   1471\u001b[0m \u001b[43m        \u001b[49m\u001b[43msample_weight\u001b[49m\u001b[38;5;241;43m=\u001b[39;49m\u001b[43msample_weight\u001b[49m\u001b[43m,\u001b[49m\n\u001b[1;32m   1472\u001b[0m \u001b[43m        \u001b[49m\u001b[43mzero_division\u001b[49m\u001b[38;5;241;43m=\u001b[39;49m\u001b[43mzero_division\u001b[49m\u001b[43m,\u001b[49m\n\u001b[1;32m   1473\u001b[0m \u001b[43m    \u001b[49m\u001b[43m)\u001b[49m\n\u001b[1;32m   1474\u001b[0m     \u001b[38;5;28;01mreturn\u001b[39;00m f\n",
      "File \u001b[0;32m~/.cache/pypoetry/virtualenvs/kaggle-home-credit-n3bSIZTJ-py3.11/lib/python3.11/site-packages/sklearn/utils/_param_validation.py:186\u001b[0m, in \u001b[0;36mvalidate_params.<locals>.decorator.<locals>.wrapper\u001b[0;34m(*args, **kwargs)\u001b[0m\n\u001b[1;32m    184\u001b[0m global_skip_validation \u001b[38;5;241m=\u001b[39m get_config()[\u001b[38;5;124m\"\u001b[39m\u001b[38;5;124mskip_parameter_validation\u001b[39m\u001b[38;5;124m\"\u001b[39m]\n\u001b[1;32m    185\u001b[0m \u001b[38;5;28;01mif\u001b[39;00m global_skip_validation:\n\u001b[0;32m--> 186\u001b[0m     \u001b[38;5;28;01mreturn\u001b[39;00m \u001b[43mfunc\u001b[49m\u001b[43m(\u001b[49m\u001b[38;5;241;43m*\u001b[39;49m\u001b[43margs\u001b[49m\u001b[43m,\u001b[49m\u001b[43m \u001b[49m\u001b[38;5;241;43m*\u001b[39;49m\u001b[38;5;241;43m*\u001b[39;49m\u001b[43mkwargs\u001b[49m\u001b[43m)\u001b[49m\n\u001b[1;32m    188\u001b[0m func_sig \u001b[38;5;241m=\u001b[39m signature(func)\n\u001b[1;32m    190\u001b[0m \u001b[38;5;66;03m# Map *args/**kwargs to the function signature\u001b[39;00m\n",
      "File \u001b[0;32m~/.cache/pypoetry/virtualenvs/kaggle-home-credit-n3bSIZTJ-py3.11/lib/python3.11/site-packages/sklearn/metrics/_classification.py:1767\u001b[0m, in \u001b[0;36mprecision_recall_fscore_support\u001b[0;34m(y_true, y_pred, beta, labels, pos_label, average, warn_for, sample_weight, zero_division)\u001b[0m\n\u001b[1;32m   1604\u001b[0m \u001b[38;5;250m\u001b[39m\u001b[38;5;124;03m\"\"\"Compute precision, recall, F-measure and support for each class.\u001b[39;00m\n\u001b[1;32m   1605\u001b[0m \n\u001b[1;32m   1606\u001b[0m \u001b[38;5;124;03mThe precision is the ratio ``tp / (tp + fp)`` where ``tp`` is the number of\u001b[39;00m\n\u001b[0;32m   (...)\u001b[0m\n\u001b[1;32m   1764\u001b[0m \u001b[38;5;124;03m array([2, 2, 2]))\u001b[39;00m\n\u001b[1;32m   1765\u001b[0m \u001b[38;5;124;03m\"\"\"\u001b[39;00m\n\u001b[1;32m   1766\u001b[0m _check_zero_division(zero_division)\n\u001b[0;32m-> 1767\u001b[0m labels \u001b[38;5;241m=\u001b[39m \u001b[43m_check_set_wise_labels\u001b[49m\u001b[43m(\u001b[49m\u001b[43my_true\u001b[49m\u001b[43m,\u001b[49m\u001b[43m \u001b[49m\u001b[43my_pred\u001b[49m\u001b[43m,\u001b[49m\u001b[43m \u001b[49m\u001b[43maverage\u001b[49m\u001b[43m,\u001b[49m\u001b[43m \u001b[49m\u001b[43mlabels\u001b[49m\u001b[43m,\u001b[49m\u001b[43m \u001b[49m\u001b[43mpos_label\u001b[49m\u001b[43m)\u001b[49m\n\u001b[1;32m   1769\u001b[0m \u001b[38;5;66;03m# Calculate tp_sum, pred_sum, true_sum ###\u001b[39;00m\n\u001b[1;32m   1770\u001b[0m samplewise \u001b[38;5;241m=\u001b[39m average \u001b[38;5;241m==\u001b[39m \u001b[38;5;124m\"\u001b[39m\u001b[38;5;124msamples\u001b[39m\u001b[38;5;124m\"\u001b[39m\n",
      "File \u001b[0;32m~/.cache/pypoetry/virtualenvs/kaggle-home-credit-n3bSIZTJ-py3.11/lib/python3.11/site-packages/sklearn/metrics/_classification.py:1539\u001b[0m, in \u001b[0;36m_check_set_wise_labels\u001b[0;34m(y_true, y_pred, average, labels, pos_label)\u001b[0m\n\u001b[1;32m   1536\u001b[0m \u001b[38;5;28;01mif\u001b[39;00m average \u001b[38;5;129;01mnot\u001b[39;00m \u001b[38;5;129;01min\u001b[39;00m average_options \u001b[38;5;129;01mand\u001b[39;00m average \u001b[38;5;241m!=\u001b[39m \u001b[38;5;124m\"\u001b[39m\u001b[38;5;124mbinary\u001b[39m\u001b[38;5;124m\"\u001b[39m:\n\u001b[1;32m   1537\u001b[0m     \u001b[38;5;28;01mraise\u001b[39;00m \u001b[38;5;167;01mValueError\u001b[39;00m(\u001b[38;5;124m\"\u001b[39m\u001b[38;5;124maverage has to be one of \u001b[39m\u001b[38;5;124m\"\u001b[39m \u001b[38;5;241m+\u001b[39m \u001b[38;5;28mstr\u001b[39m(average_options))\n\u001b[0;32m-> 1539\u001b[0m y_type, y_true, y_pred \u001b[38;5;241m=\u001b[39m \u001b[43m_check_targets\u001b[49m\u001b[43m(\u001b[49m\u001b[43my_true\u001b[49m\u001b[43m,\u001b[49m\u001b[43m \u001b[49m\u001b[43my_pred\u001b[49m\u001b[43m)\u001b[49m\n\u001b[1;32m   1540\u001b[0m \u001b[38;5;66;03m# Convert to Python primitive type to avoid NumPy type / Python str\u001b[39;00m\n\u001b[1;32m   1541\u001b[0m \u001b[38;5;66;03m# comparison. See https://github.com/numpy/numpy/issues/6784\u001b[39;00m\n\u001b[1;32m   1542\u001b[0m present_labels \u001b[38;5;241m=\u001b[39m unique_labels(y_true, y_pred)\u001b[38;5;241m.\u001b[39mtolist()\n",
      "File \u001b[0;32m~/.cache/pypoetry/virtualenvs/kaggle-home-credit-n3bSIZTJ-py3.11/lib/python3.11/site-packages/sklearn/metrics/_classification.py:94\u001b[0m, in \u001b[0;36m_check_targets\u001b[0;34m(y_true, y_pred)\u001b[0m\n\u001b[1;32m     91\u001b[0m     y_type \u001b[38;5;241m=\u001b[39m {\u001b[38;5;124m\"\u001b[39m\u001b[38;5;124mmulticlass\u001b[39m\u001b[38;5;124m\"\u001b[39m}\n\u001b[1;32m     93\u001b[0m \u001b[38;5;28;01mif\u001b[39;00m \u001b[38;5;28mlen\u001b[39m(y_type) \u001b[38;5;241m>\u001b[39m \u001b[38;5;241m1\u001b[39m:\n\u001b[0;32m---> 94\u001b[0m     \u001b[38;5;28;01mraise\u001b[39;00m \u001b[38;5;167;01mValueError\u001b[39;00m(\n\u001b[1;32m     95\u001b[0m         \u001b[38;5;124m\"\u001b[39m\u001b[38;5;124mClassification metrics can\u001b[39m\u001b[38;5;124m'\u001b[39m\u001b[38;5;124mt handle a mix of \u001b[39m\u001b[38;5;132;01m{0}\u001b[39;00m\u001b[38;5;124m and \u001b[39m\u001b[38;5;132;01m{1}\u001b[39;00m\u001b[38;5;124m targets\u001b[39m\u001b[38;5;124m\"\u001b[39m\u001b[38;5;241m.\u001b[39mformat(\n\u001b[1;32m     96\u001b[0m             type_true, type_pred\n\u001b[1;32m     97\u001b[0m         )\n\u001b[1;32m     98\u001b[0m     )\n\u001b[1;32m    100\u001b[0m \u001b[38;5;66;03m# We can't have more than one value on y_type => The set is no more needed\u001b[39;00m\n\u001b[1;32m    101\u001b[0m y_type \u001b[38;5;241m=\u001b[39m y_type\u001b[38;5;241m.\u001b[39mpop()\n",
      "\u001b[0;31mValueError\u001b[0m: Classification metrics can't handle a mix of binary and continuous targets"
     ]
    }
   ],
   "source": [
    "f1_score(te_df['target'], ypred)"
   ]
  },
  {
   "cell_type": "code",
   "execution_count": 94,
   "id": "34a44bd6-f852-4750-94c0-a7d32cf22368",
   "metadata": {},
   "outputs": [],
   "source": [
    "base_train['weight'] = base_train['target'].apply(lambda x: 10 if x == 1 else 1)\n",
    "base_valid['weight'] = base_valid['target'].apply(lambda x: 10 if x == 1 else 1)\n",
    "base_test['weight'] = base_test['target'].apply(lambda x: 10 if x == 1 else 1)"
   ]
  },
  {
   "cell_type": "code",
   "execution_count": 105,
   "id": "7f18f3f3-b16c-4950-9d28-ed3a7ad63d26",
   "metadata": {},
   "outputs": [],
   "source": [
    "train_data = lgb.Dataset(X_train, label=y_train, categorical_feature=cat_cols_base, weight=base_train['weight'])\n",
    "valid_data = lgb.Dataset(X_valid, label=y_valid, categorical_feature=cat_cols_base, weight=base_valid['weight'])\n",
    "test_data = lgb.Dataset(X_test, label=y_test, categorical_feature=cat_cols_base, weight=base_test['weight'])"
   ]
  },
  {
   "cell_type": "code",
   "execution_count": 106,
   "id": "a6fe9cdc-5f7b-494c-99d0-38a7b0f9f4d1",
   "metadata": {
    "scrolled": true
   },
   "outputs": [
    {
     "name": "stderr",
     "output_type": "stream",
     "text": [
      "/home/wojciechostrowski/.cache/pypoetry/virtualenvs/kaggle-home-credit-n3bSIZTJ-py3.11/lib/python3.11/site-packages/lightgbm/engine.py:172: UserWarning: Found `n_estimators` in params. Will use it instead of argument\n",
      "  _log_warning(f\"Found `{alias}` in params. Will use it instead of argument\")\n"
     ]
    },
    {
     "name": "stdout",
     "output_type": "stream",
     "text": [
      "Training until validation scores don't improve for 10 rounds\n",
      "[50]\teval's auc: 0.7726\n",
      "[100]\teval's auc: 0.794422\n",
      "[150]\teval's auc: 0.802721\n",
      "[200]\teval's auc: 0.807212\n",
      "[250]\teval's auc: 0.810162\n",
      "[300]\teval's auc: 0.812133\n",
      "[350]\teval's auc: 0.813498\n",
      "[400]\teval's auc: 0.814689\n",
      "[450]\teval's auc: 0.815725\n",
      "[500]\teval's auc: 0.816595\n",
      "[550]\teval's auc: 0.817298\n",
      "[600]\teval's auc: 0.818023\n",
      "[650]\teval's auc: 0.818407\n",
      "[700]\teval's auc: 0.819026\n",
      "[750]\teval's auc: 0.819502\n",
      "[800]\teval's auc: 0.820006\n",
      "[850]\teval's auc: 0.820242\n",
      "[900]\teval's auc: 0.820624\n",
      "[950]\teval's auc: 0.820891\n",
      "[1000]\teval's auc: 0.821178\n",
      "Did not meet early stopping. Best iteration is:\n",
      "[1000]\teval's auc: 0.821178\n"
     ]
    }
   ],
   "source": [
    "bst_50_bal, eval_results = train_lgb_model(params, train_data, valid_data)"
   ]
  },
  {
   "cell_type": "code",
   "execution_count": 107,
   "id": "68261d97-7c38-49f4-8904-9bc36ffb2167",
   "metadata": {},
   "outputs": [
    {
     "data": {
      "text/plain": [
       "0.8211783443105655"
      ]
     },
     "execution_count": 107,
     "metadata": {},
     "output_type": "execute_result"
    }
   ],
   "source": [
    "eval_results['eval']['auc'][-1]"
   ]
  },
  {
   "cell_type": "code",
   "execution_count": 108,
   "id": "24ef4edf-79ca-48c5-b867-ee3c826efa12",
   "metadata": {},
   "outputs": [],
   "source": [
    "ypred = bst_50_bal.predict(X_test)"
   ]
  },
  {
   "cell_type": "code",
   "execution_count": 116,
   "id": "49ab2ce0-8013-4aee-b94b-f4379832f1e0",
   "metadata": {},
   "outputs": [
    {
     "data": {
      "text/plain": [
       "0.8191716237831225"
      ]
     },
     "execution_count": 116,
     "metadata": {},
     "output_type": "execute_result"
    }
   ],
   "source": [
    "roc_auc_score(y_test.values, ypred)"
   ]
  },
  {
   "cell_type": "code",
   "execution_count": 110,
   "id": "991fc5b3-c628-4320-acc3-b0c04babdc95",
   "metadata": {},
   "outputs": [
    {
     "data": {
      "text/plain": [
       "0.6383432475662449"
      ]
     },
     "execution_count": 110,
     "metadata": {},
     "output_type": "execute_result"
    }
   ],
   "source": [
    "2 * roc_auc_score(y_test.values, ypred) - 1"
   ]
  },
  {
   "cell_type": "code",
   "execution_count": 111,
   "id": "2defb3b0-9721-4be4-9be0-162284b981c3",
   "metadata": {},
   "outputs": [],
   "source": [
    "base_test['score'] = ypred\n",
    "roc_by_week_test = base_test.loc[:, [\"WEEK_NUM\", \"target\", \"score\"]]\\\n",
    "        .sort_values(\"WEEK_NUM\")\\\n",
    "        .groupby(\"WEEK_NUM\")[[\"target\", \"score\"]]\\\n",
    "        .apply(lambda x: roc_auc_score(x[\"target\"], x[\"score\"])).tolist()"
   ]
  },
  {
   "cell_type": "code",
   "execution_count": 112,
   "id": "0ad90709-4413-4340-b8c7-14f6706c277f",
   "metadata": {},
   "outputs": [
    {
     "data": {
      "text/plain": [
       "PearsonRResult(statistic=-0.2877253022498516, pvalue=0.005417521361340582)"
      ]
     },
     "execution_count": 112,
     "metadata": {},
     "output_type": "execute_result"
    }
   ],
   "source": [
    "pearsonr(roc_by_week_test, base_test.sort_values(\"WEEK_NUM\")\\\n",
    "        .groupby(\"WEEK_NUM\")[\"target\"].mean().tolist())"
   ]
  },
  {
   "cell_type": "code",
   "execution_count": 113,
   "id": "3383e816-bae5-4135-ac11-462dfcef0054",
   "metadata": {},
   "outputs": [
    {
     "data": {
      "text/plain": [
       "PearsonRResult(statistic=-0.16388941080906338, pvalue=0.11851096090434428)"
      ]
     },
     "execution_count": 113,
     "metadata": {},
     "output_type": "execute_result"
    }
   ],
   "source": [
    "pearsonr(roc_by_week_test, base_test.sort_values(\"WEEK_NUM\")\\\n",
    "        .groupby(\"WEEK_NUM\")[\"target\"].count().tolist())"
   ]
  },
  {
   "cell_type": "code",
   "execution_count": 114,
   "id": "9e95a8eb-6e74-4195-89db-763c9c020b2b",
   "metadata": {},
   "outputs": [
    {
     "data": {
      "image/png": "[encoded data removed]",
      "text/plain": [
       "<Figure size 640x480 with 1 Axes>"
      ]
     },
     "metadata": {},
     "output_type": "display_data"
    },
    {
     "data": {
      "image/png": "[encoded data removed]",
      "text/plain": [
       "<Figure size 640x480 with 1 Axes>"
      ]
     },
     "metadata": {},
     "output_type": "display_data"
    }
   ],
   "source": [
    "plt.plot(base_test.sort_values(\"WEEK_NUM\")\\\n",
    "        .groupby(\"WEEK_NUM\")[\"target\"].count().tolist()\n",
    ")\n",
    "plt.show()\n",
    "plt.plot(base_test.sort_values(\"WEEK_NUM\")\\\n",
    "        .groupby(\"WEEK_NUM\")[\"target\"].mean().tolist()\n",
    ")\n",
    "plt.plot(roc_by_week_test)\n",
    "plt.show()"
   ]
  },
  {
   "cell_type": "code",
   "execution_count": null,
   "id": "ea77dcdc-317a-4148-add3-0d8f5e6f2da3",
   "metadata": {},
   "outputs": [],
   "source": []
  },
  {
   "cell_type": "code",
   "execution_count": null,
   "id": "c0026f58-721f-4594-a74a-a9aad8bd62a9",
   "metadata": {},
   "outputs": [],
   "source": []
  }
 ],
 "metadata": {
  "kernelspec": {
   "display_name": "Python 3 (ipykernel)",
   "language": "python",
   "name": "python3"
  },
  "language_info": {
   "codemirror_mode": {
    "name": "ipython",
    "version": 3
   },
   "file_extension": ".py",
   "mimetype": "text/x-python",
   "name": "python",
   "nbconvert_exporter": "python",
   "pygments_lexer": "ipython3",
   "version": "3.11.5"
  }
 },
 "nbformat": 4,
 "nbformat_minor": 5
}
